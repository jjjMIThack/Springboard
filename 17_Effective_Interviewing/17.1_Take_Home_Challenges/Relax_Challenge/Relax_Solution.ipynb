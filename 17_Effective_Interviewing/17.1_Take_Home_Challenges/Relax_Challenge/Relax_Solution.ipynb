{
 "cells": [
  {
   "cell_type": "code",
   "execution_count": 143,
   "metadata": {},
   "outputs": [],
   "source": [
    "import pandas as pd\n",
    "import numpy as np\n",
    "import matplotlib.pyplot as plt\n",
    "import matplotlib.axis as axis\n",
    "from datetime import datetime"
   ]
  },
  {
   "cell_type": "code",
   "execution_count": 2,
   "metadata": {},
   "outputs": [],
   "source": [
    "#Load data set into python\n",
    "data_user = pd.read_csv('takehome_users.csv', parse_dates =[1], encoding = 'ISO-8859-1')\n",
    "data_engagement = pd.read_csv('takehome_user_engagement.csv', parse_dates =[0])"
   ]
  },
  {
   "cell_type": "code",
   "execution_count": 3,
   "metadata": {},
   "outputs": [
    {
     "data": {
      "text/html": [
       "<div>\n",
       "<style scoped>\n",
       "    .dataframe tbody tr th:only-of-type {\n",
       "        vertical-align: middle;\n",
       "    }\n",
       "\n",
       "    .dataframe tbody tr th {\n",
       "        vertical-align: top;\n",
       "    }\n",
       "\n",
       "    .dataframe thead th {\n",
       "        text-align: right;\n",
       "    }\n",
       "</style>\n",
       "<table border=\"1\" class=\"dataframe\">\n",
       "  <thead>\n",
       "    <tr style=\"text-align: right;\">\n",
       "      <th></th>\n",
       "      <th>object_id</th>\n",
       "      <th>creation_time</th>\n",
       "      <th>name</th>\n",
       "      <th>email</th>\n",
       "      <th>creation_source</th>\n",
       "      <th>last_session_creation_time</th>\n",
       "      <th>opted_in_to_mailing_list</th>\n",
       "      <th>enabled_for_marketing_drip</th>\n",
       "      <th>org_id</th>\n",
       "      <th>invited_by_user_id</th>\n",
       "    </tr>\n",
       "  </thead>\n",
       "  <tbody>\n",
       "    <tr>\n",
       "      <th>0</th>\n",
       "      <td>1</td>\n",
       "      <td>2014-04-22 03:53:30</td>\n",
       "      <td>Clausen August</td>\n",
       "      <td>AugustCClausen@yahoo.com</td>\n",
       "      <td>GUEST_INVITE</td>\n",
       "      <td>1.398139e+09</td>\n",
       "      <td>1</td>\n",
       "      <td>0</td>\n",
       "      <td>11</td>\n",
       "      <td>10803.0</td>\n",
       "    </tr>\n",
       "    <tr>\n",
       "      <th>1</th>\n",
       "      <td>2</td>\n",
       "      <td>2013-11-15 03:45:04</td>\n",
       "      <td>Poole Matthew</td>\n",
       "      <td>MatthewPoole@gustr.com</td>\n",
       "      <td>ORG_INVITE</td>\n",
       "      <td>1.396238e+09</td>\n",
       "      <td>0</td>\n",
       "      <td>0</td>\n",
       "      <td>1</td>\n",
       "      <td>316.0</td>\n",
       "    </tr>\n",
       "    <tr>\n",
       "      <th>2</th>\n",
       "      <td>3</td>\n",
       "      <td>2013-03-19 23:14:52</td>\n",
       "      <td>Bottrill Mitchell</td>\n",
       "      <td>MitchellBottrill@gustr.com</td>\n",
       "      <td>ORG_INVITE</td>\n",
       "      <td>1.363735e+09</td>\n",
       "      <td>0</td>\n",
       "      <td>0</td>\n",
       "      <td>94</td>\n",
       "      <td>1525.0</td>\n",
       "    </tr>\n",
       "    <tr>\n",
       "      <th>3</th>\n",
       "      <td>4</td>\n",
       "      <td>2013-05-21 08:09:28</td>\n",
       "      <td>Clausen Nicklas</td>\n",
       "      <td>NicklasSClausen@yahoo.com</td>\n",
       "      <td>GUEST_INVITE</td>\n",
       "      <td>1.369210e+09</td>\n",
       "      <td>0</td>\n",
       "      <td>0</td>\n",
       "      <td>1</td>\n",
       "      <td>5151.0</td>\n",
       "    </tr>\n",
       "    <tr>\n",
       "      <th>4</th>\n",
       "      <td>5</td>\n",
       "      <td>2013-01-17 10:14:20</td>\n",
       "      <td>Raw Grace</td>\n",
       "      <td>GraceRaw@yahoo.com</td>\n",
       "      <td>GUEST_INVITE</td>\n",
       "      <td>1.358850e+09</td>\n",
       "      <td>0</td>\n",
       "      <td>0</td>\n",
       "      <td>193</td>\n",
       "      <td>5240.0</td>\n",
       "    </tr>\n",
       "  </tbody>\n",
       "</table>\n",
       "</div>"
      ],
      "text/plain": [
       "   object_id       creation_time               name  \\\n",
       "0          1 2014-04-22 03:53:30     Clausen August   \n",
       "1          2 2013-11-15 03:45:04      Poole Matthew   \n",
       "2          3 2013-03-19 23:14:52  Bottrill Mitchell   \n",
       "3          4 2013-05-21 08:09:28    Clausen Nicklas   \n",
       "4          5 2013-01-17 10:14:20          Raw Grace   \n",
       "\n",
       "                        email creation_source  last_session_creation_time  \\\n",
       "0    AugustCClausen@yahoo.com    GUEST_INVITE                1.398139e+09   \n",
       "1      MatthewPoole@gustr.com      ORG_INVITE                1.396238e+09   \n",
       "2  MitchellBottrill@gustr.com      ORG_INVITE                1.363735e+09   \n",
       "3   NicklasSClausen@yahoo.com    GUEST_INVITE                1.369210e+09   \n",
       "4          GraceRaw@yahoo.com    GUEST_INVITE                1.358850e+09   \n",
       "\n",
       "   opted_in_to_mailing_list  enabled_for_marketing_drip  org_id  \\\n",
       "0                         1                           0      11   \n",
       "1                         0                           0       1   \n",
       "2                         0                           0      94   \n",
       "3                         0                           0       1   \n",
       "4                         0                           0     193   \n",
       "\n",
       "   invited_by_user_id  \n",
       "0             10803.0  \n",
       "1               316.0  \n",
       "2              1525.0  \n",
       "3              5151.0  \n",
       "4              5240.0  "
      ]
     },
     "execution_count": 3,
     "metadata": {},
     "output_type": "execute_result"
    }
   ],
   "source": [
    "#Observe top rows in user data\n",
    "data_user.head()"
   ]
  },
  {
   "cell_type": "code",
   "execution_count": 4,
   "metadata": {},
   "outputs": [
    {
     "data": {
      "text/html": [
       "<div>\n",
       "<style scoped>\n",
       "    .dataframe tbody tr th:only-of-type {\n",
       "        vertical-align: middle;\n",
       "    }\n",
       "\n",
       "    .dataframe tbody tr th {\n",
       "        vertical-align: top;\n",
       "    }\n",
       "\n",
       "    .dataframe thead th {\n",
       "        text-align: right;\n",
       "    }\n",
       "</style>\n",
       "<table border=\"1\" class=\"dataframe\">\n",
       "  <thead>\n",
       "    <tr style=\"text-align: right;\">\n",
       "      <th></th>\n",
       "      <th>time_stamp</th>\n",
       "      <th>user_id</th>\n",
       "      <th>visited</th>\n",
       "    </tr>\n",
       "  </thead>\n",
       "  <tbody>\n",
       "    <tr>\n",
       "      <th>0</th>\n",
       "      <td>2014-04-22 03:53:30</td>\n",
       "      <td>1</td>\n",
       "      <td>1</td>\n",
       "    </tr>\n",
       "    <tr>\n",
       "      <th>1</th>\n",
       "      <td>2013-11-15 03:45:04</td>\n",
       "      <td>2</td>\n",
       "      <td>1</td>\n",
       "    </tr>\n",
       "    <tr>\n",
       "      <th>2</th>\n",
       "      <td>2013-11-29 03:45:04</td>\n",
       "      <td>2</td>\n",
       "      <td>1</td>\n",
       "    </tr>\n",
       "    <tr>\n",
       "      <th>3</th>\n",
       "      <td>2013-12-09 03:45:04</td>\n",
       "      <td>2</td>\n",
       "      <td>1</td>\n",
       "    </tr>\n",
       "    <tr>\n",
       "      <th>4</th>\n",
       "      <td>2013-12-25 03:45:04</td>\n",
       "      <td>2</td>\n",
       "      <td>1</td>\n",
       "    </tr>\n",
       "  </tbody>\n",
       "</table>\n",
       "</div>"
      ],
      "text/plain": [
       "           time_stamp  user_id  visited\n",
       "0 2014-04-22 03:53:30        1        1\n",
       "1 2013-11-15 03:45:04        2        1\n",
       "2 2013-11-29 03:45:04        2        1\n",
       "3 2013-12-09 03:45:04        2        1\n",
       "4 2013-12-25 03:45:04        2        1"
      ]
     },
     "execution_count": 4,
     "metadata": {},
     "output_type": "execute_result"
    }
   ],
   "source": [
    "#Observe top rows in engagement data\n",
    "data_engagement.head()"
   ]
  },
  {
   "cell_type": "code",
   "execution_count": 5,
   "metadata": {
    "scrolled": true
   },
   "outputs": [
    {
     "data": {
      "text/html": [
       "<div>\n",
       "<style scoped>\n",
       "    .dataframe tbody tr th:only-of-type {\n",
       "        vertical-align: middle;\n",
       "    }\n",
       "\n",
       "    .dataframe tbody tr th {\n",
       "        vertical-align: top;\n",
       "    }\n",
       "\n",
       "    .dataframe thead th {\n",
       "        text-align: right;\n",
       "    }\n",
       "</style>\n",
       "<table border=\"1\" class=\"dataframe\">\n",
       "  <thead>\n",
       "    <tr style=\"text-align: right;\">\n",
       "      <th></th>\n",
       "      <th>time_stamp</th>\n",
       "      <th>visited</th>\n",
       "    </tr>\n",
       "    <tr>\n",
       "      <th>user_id</th>\n",
       "      <th></th>\n",
       "      <th></th>\n",
       "    </tr>\n",
       "  </thead>\n",
       "  <tbody>\n",
       "    <tr>\n",
       "      <th>1</th>\n",
       "      <td>2014-04-22</td>\n",
       "      <td>1.0</td>\n",
       "    </tr>\n",
       "    <tr>\n",
       "      <th>2</th>\n",
       "      <td>2013-11-15</td>\n",
       "      <td>1.0</td>\n",
       "    </tr>\n",
       "    <tr>\n",
       "      <th>2</th>\n",
       "      <td>2013-11-16</td>\n",
       "      <td>0.0</td>\n",
       "    </tr>\n",
       "    <tr>\n",
       "      <th>2</th>\n",
       "      <td>2013-11-17</td>\n",
       "      <td>0.0</td>\n",
       "    </tr>\n",
       "    <tr>\n",
       "      <th>2</th>\n",
       "      <td>2013-11-18</td>\n",
       "      <td>0.0</td>\n",
       "    </tr>\n",
       "    <tr>\n",
       "      <th>2</th>\n",
       "      <td>2013-11-19</td>\n",
       "      <td>0.0</td>\n",
       "    </tr>\n",
       "    <tr>\n",
       "      <th>2</th>\n",
       "      <td>2013-11-20</td>\n",
       "      <td>0.0</td>\n",
       "    </tr>\n",
       "    <tr>\n",
       "      <th>2</th>\n",
       "      <td>2013-11-21</td>\n",
       "      <td>0.0</td>\n",
       "    </tr>\n",
       "    <tr>\n",
       "      <th>2</th>\n",
       "      <td>2013-11-22</td>\n",
       "      <td>0.0</td>\n",
       "    </tr>\n",
       "    <tr>\n",
       "      <th>2</th>\n",
       "      <td>2013-11-23</td>\n",
       "      <td>0.0</td>\n",
       "    </tr>\n",
       "  </tbody>\n",
       "</table>\n",
       "</div>"
      ],
      "text/plain": [
       "        time_stamp  visited\n",
       "user_id                    \n",
       "1       2014-04-22      1.0\n",
       "2       2013-11-15      1.0\n",
       "2       2013-11-16      0.0\n",
       "2       2013-11-17      0.0\n",
       "2       2013-11-18      0.0\n",
       "2       2013-11-19      0.0\n",
       "2       2013-11-20      0.0\n",
       "2       2013-11-21      0.0\n",
       "2       2013-11-22      0.0\n",
       "2       2013-11-23      0.0"
      ]
     },
     "execution_count": 5,
     "metadata": {},
     "output_type": "execute_result"
    }
   ],
   "source": [
    "#Find all of the user_ids that are considered 'adopted' users\n",
    "rolling_time = data_engagement.groupby('user_id').resample('D', on = 'time_stamp').mean()\n",
    "rolling_time = rolling_time.drop('user_id', axis = 1)\n",
    "rolling_time[rolling_time.isna()] = 0\n",
    "rolling_time = rolling_time.reset_index(level = 'time_stamp')\n",
    "rolling_time.head(10)"
   ]
  },
  {
   "cell_type": "code",
   "execution_count": 6,
   "metadata": {},
   "outputs": [
    {
     "name": "stdout",
     "output_type": "stream",
     "text": [
      "8823\n"
     ]
    }
   ],
   "source": [
    "print(len(rolling_time.index.unique()))"
   ]
  },
  {
   "cell_type": "code",
   "execution_count": 7,
   "metadata": {},
   "outputs": [],
   "source": [
    "#rolling_time = rolling_time.reset_index(level = 'time_stamp', drop = False)\n",
    "num_user = len(rolling_time.index.unique())\n",
    "\n",
    "temp_vec = pd.Series(np.zeros(2))\n",
    "adopt_df = pd.DataFrame(np.zeros((num_user,2)), columns = ['user_id', 'adopt'])\n",
    "count = 0\n",
    "\n",
    "for indx in rolling_time.index.unique():\n",
    "    temp = 0\n",
    "    temp_vec = rolling_time.loc[indx].visited\n",
    "    temp_vec = pd.Series(temp_vec)\n",
    "    \n",
    "    if(len(temp_vec) <= 7):\n",
    "        temp = temp_vec.sum()\n",
    "    else:\n",
    "        temp = temp_vec.rolling(window = 7).sum().max()\n",
    "        \n",
    "    adopt_df.iloc[count].user_id =  indx\n",
    "    if (temp >= 3):\n",
    "        adopt_df.iloc[count].adopt = 1\n",
    "    else:\n",
    "        adopt_df.iloc[count].adopt = 0\n",
    "    count += 1"
   ]
  },
  {
   "cell_type": "code",
   "execution_count": 8,
   "metadata": {},
   "outputs": [],
   "source": [
    "#Look at the apot_df \n",
    "adopt_df.user_id = adopt_df.user_id.astype('int')"
   ]
  },
  {
   "cell_type": "code",
   "execution_count": 11,
   "metadata": {},
   "outputs": [
    {
     "name": "stderr",
     "output_type": "stream",
     "text": [
      "C:\\Users\\jjjon\\Anaconda3\\lib\\site-packages\\pandas\\core\\indexing.py:189: SettingWithCopyWarning: \n",
      "A value is trying to be set on a copy of a slice from a DataFrame\n",
      "\n",
      "See the caveats in the documentation: http://pandas.pydata.org/pandas-docs/stable/indexing.html#indexing-view-versus-copy\n",
      "  self._setitem_with_indexer(indexer, value)\n"
     ]
    }
   ],
   "source": [
    "#Convert features in user data into usable numerica data for the email address type\n",
    "temp_vec = pd.Series(np.zeros(len(data_user.email)))\n",
    "temp = 0\n",
    "count = 0\n",
    "\n",
    "for indx in data_user.email:\n",
    "    temp = indx.find('@')\n",
    "    temp_vec[count] = indx[temp+1:len(indx)]\n",
    "    count += 1\n",
    "\n",
    "temp_unique = temp_vec.unique()\n",
    "temp_df = pd.DataFrame()\n",
    "temp_df['num'] = pd.Series(range(len(temp_unique)))\n",
    "temp_df['email'] = pd.Series(temp_unique)\n",
    "temp_df = temp_df.set_index('email')\n",
    "data_user['email_type'] = pd.DataFrame(np.empty((len(data_user.email),1)))\n",
    "\n",
    "count = 0\n",
    "for indx in data_user.email:\n",
    "    temp = indx.find('@')\n",
    "    data_user['email_type'].iloc[count]  = temp_df.loc[indx[temp+1:len(indx)]].num\n",
    "    count += 1"
   ]
  },
  {
   "cell_type": "code",
   "execution_count": 184,
   "metadata": {},
   "outputs": [
    {
     "data": {
      "text/plain": [
       "1184"
      ]
     },
     "execution_count": 184,
     "metadata": {},
     "output_type": "execute_result"
    }
   ],
   "source": [
    "len(data_user.email_type.unique())"
   ]
  },
  {
   "cell_type": "code",
   "execution_count": 13,
   "metadata": {},
   "outputs": [
    {
     "name": "stderr",
     "output_type": "stream",
     "text": [
      "C:\\Users\\jjjon\\Anaconda3\\lib\\site-packages\\pandas\\core\\indexing.py:189: SettingWithCopyWarning: \n",
      "A value is trying to be set on a copy of a slice from a DataFrame\n",
      "\n",
      "See the caveats in the documentation: http://pandas.pydata.org/pandas-docs/stable/indexing.html#indexing-view-versus-copy\n",
      "  self._setitem_with_indexer(indexer, value)\n"
     ]
    }
   ],
   "source": [
    "#Conver creation source into numerical value\n",
    "temp_unique = data_user.creation_source.unique()\n",
    "temp_df = pd.DataFrame()\n",
    "temp_df['num'] = pd.Series(range(len(temp_unique)))\n",
    "temp_df['creation_source'] = pd.Series(temp_unique)\n",
    "temp_df = temp_df.set_index('creation_source')\n",
    "data_user['creation_source_num'] = pd.DataFrame(np.empty((len(data_user.creation_source),1)))\n",
    "\n",
    "count = 0\n",
    "for indx in data_user.creation_source:\n",
    "    data_user['creation_source_num'].iloc[count]  = temp_df.loc[indx].num\n",
    "    count += 1"
   ]
  },
  {
   "cell_type": "code",
   "execution_count": 21,
   "metadata": {},
   "outputs": [
    {
     "data": {
      "text/html": [
       "<div>\n",
       "<style scoped>\n",
       "    .dataframe tbody tr th:only-of-type {\n",
       "        vertical-align: middle;\n",
       "    }\n",
       "\n",
       "    .dataframe tbody tr th {\n",
       "        vertical-align: top;\n",
       "    }\n",
       "\n",
       "    .dataframe thead th {\n",
       "        text-align: right;\n",
       "    }\n",
       "</style>\n",
       "<table border=\"1\" class=\"dataframe\">\n",
       "  <thead>\n",
       "    <tr style=\"text-align: right;\">\n",
       "      <th></th>\n",
       "      <th>object_id</th>\n",
       "      <th>creation_time</th>\n",
       "      <th>name</th>\n",
       "      <th>email</th>\n",
       "      <th>creation_source</th>\n",
       "      <th>last_session_creation_time</th>\n",
       "      <th>opted_in_to_mailing_list</th>\n",
       "      <th>enabled_for_marketing_drip</th>\n",
       "      <th>org_id</th>\n",
       "      <th>invited_by_user_id</th>\n",
       "      <th>email_type</th>\n",
       "      <th>creation_source_num</th>\n",
       "      <th>creation_year</th>\n",
       "      <th>creation_month</th>\n",
       "    </tr>\n",
       "  </thead>\n",
       "  <tbody>\n",
       "    <tr>\n",
       "      <th>0</th>\n",
       "      <td>1</td>\n",
       "      <td>2014-04-22 03:53:30</td>\n",
       "      <td>Clausen August</td>\n",
       "      <td>AugustCClausen@yahoo.com</td>\n",
       "      <td>GUEST_INVITE</td>\n",
       "      <td>1.398139e+09</td>\n",
       "      <td>1</td>\n",
       "      <td>0</td>\n",
       "      <td>11</td>\n",
       "      <td>10803.0</td>\n",
       "      <td>0.0</td>\n",
       "      <td>0.0</td>\n",
       "      <td>2014</td>\n",
       "      <td>4</td>\n",
       "    </tr>\n",
       "    <tr>\n",
       "      <th>1</th>\n",
       "      <td>2</td>\n",
       "      <td>2013-11-15 03:45:04</td>\n",
       "      <td>Poole Matthew</td>\n",
       "      <td>MatthewPoole@gustr.com</td>\n",
       "      <td>ORG_INVITE</td>\n",
       "      <td>1.396238e+09</td>\n",
       "      <td>0</td>\n",
       "      <td>0</td>\n",
       "      <td>1</td>\n",
       "      <td>316.0</td>\n",
       "      <td>1.0</td>\n",
       "      <td>1.0</td>\n",
       "      <td>2013</td>\n",
       "      <td>11</td>\n",
       "    </tr>\n",
       "    <tr>\n",
       "      <th>2</th>\n",
       "      <td>3</td>\n",
       "      <td>2013-03-19 23:14:52</td>\n",
       "      <td>Bottrill Mitchell</td>\n",
       "      <td>MitchellBottrill@gustr.com</td>\n",
       "      <td>ORG_INVITE</td>\n",
       "      <td>1.363735e+09</td>\n",
       "      <td>0</td>\n",
       "      <td>0</td>\n",
       "      <td>94</td>\n",
       "      <td>1525.0</td>\n",
       "      <td>1.0</td>\n",
       "      <td>1.0</td>\n",
       "      <td>2013</td>\n",
       "      <td>3</td>\n",
       "    </tr>\n",
       "    <tr>\n",
       "      <th>3</th>\n",
       "      <td>4</td>\n",
       "      <td>2013-05-21 08:09:28</td>\n",
       "      <td>Clausen Nicklas</td>\n",
       "      <td>NicklasSClausen@yahoo.com</td>\n",
       "      <td>GUEST_INVITE</td>\n",
       "      <td>1.369210e+09</td>\n",
       "      <td>0</td>\n",
       "      <td>0</td>\n",
       "      <td>1</td>\n",
       "      <td>5151.0</td>\n",
       "      <td>0.0</td>\n",
       "      <td>0.0</td>\n",
       "      <td>2013</td>\n",
       "      <td>5</td>\n",
       "    </tr>\n",
       "    <tr>\n",
       "      <th>4</th>\n",
       "      <td>5</td>\n",
       "      <td>2013-01-17 10:14:20</td>\n",
       "      <td>Raw Grace</td>\n",
       "      <td>GraceRaw@yahoo.com</td>\n",
       "      <td>GUEST_INVITE</td>\n",
       "      <td>1.358850e+09</td>\n",
       "      <td>0</td>\n",
       "      <td>0</td>\n",
       "      <td>193</td>\n",
       "      <td>5240.0</td>\n",
       "      <td>0.0</td>\n",
       "      <td>0.0</td>\n",
       "      <td>2013</td>\n",
       "      <td>1</td>\n",
       "    </tr>\n",
       "  </tbody>\n",
       "</table>\n",
       "</div>"
      ],
      "text/plain": [
       "   object_id       creation_time               name  \\\n",
       "0          1 2014-04-22 03:53:30     Clausen August   \n",
       "1          2 2013-11-15 03:45:04      Poole Matthew   \n",
       "2          3 2013-03-19 23:14:52  Bottrill Mitchell   \n",
       "3          4 2013-05-21 08:09:28    Clausen Nicklas   \n",
       "4          5 2013-01-17 10:14:20          Raw Grace   \n",
       "\n",
       "                        email creation_source  last_session_creation_time  \\\n",
       "0    AugustCClausen@yahoo.com    GUEST_INVITE                1.398139e+09   \n",
       "1      MatthewPoole@gustr.com      ORG_INVITE                1.396238e+09   \n",
       "2  MitchellBottrill@gustr.com      ORG_INVITE                1.363735e+09   \n",
       "3   NicklasSClausen@yahoo.com    GUEST_INVITE                1.369210e+09   \n",
       "4          GraceRaw@yahoo.com    GUEST_INVITE                1.358850e+09   \n",
       "\n",
       "   opted_in_to_mailing_list  enabled_for_marketing_drip  org_id  \\\n",
       "0                         1                           0      11   \n",
       "1                         0                           0       1   \n",
       "2                         0                           0      94   \n",
       "3                         0                           0       1   \n",
       "4                         0                           0     193   \n",
       "\n",
       "   invited_by_user_id  email_type  creation_source_num  creation_year  \\\n",
       "0             10803.0         0.0                  0.0           2014   \n",
       "1               316.0         1.0                  1.0           2013   \n",
       "2              1525.0         1.0                  1.0           2013   \n",
       "3              5151.0         0.0                  0.0           2013   \n",
       "4              5240.0         0.0                  0.0           2013   \n",
       "\n",
       "   creation_month  \n",
       "0               4  \n",
       "1              11  \n",
       "2               3  \n",
       "3               5  \n",
       "4               1  "
      ]
     },
     "execution_count": 21,
     "metadata": {},
     "output_type": "execute_result"
    }
   ],
   "source": [
    "data_user.head()"
   ]
  },
  {
   "cell_type": "code",
   "execution_count": 20,
   "metadata": {},
   "outputs": [],
   "source": [
    "#Alter creation time to account for year and month for as new data features\n",
    "data_user['creation_year'] = data_user.creation_time.dt.year\n",
    "data_user['creation_month'] = data_user.creation_time.dt.month"
   ]
  },
  {
   "cell_type": "code",
   "execution_count": 187,
   "metadata": {},
   "outputs": [
    {
     "data": {
      "text/plain": [
       "8823"
      ]
     },
     "execution_count": 187,
     "metadata": {},
     "output_type": "execute_result"
    }
   ],
   "source": []
  },
  {
   "cell_type": "code",
   "execution_count": 22,
   "metadata": {},
   "outputs": [],
   "source": [
    "#Merge data to using adoption data frame.\n",
    "merged_df = data_user.merge(adopt_df, left_on = 'object_id', right_on = 'user_id')"
   ]
  },
  {
   "cell_type": "code",
   "execution_count": 23,
   "metadata": {},
   "outputs": [
    {
     "name": "stdout",
     "output_type": "stream",
     "text": [
      "<class 'pandas.core.frame.DataFrame'>\n",
      "Int64Index: 8823 entries, 0 to 8822\n",
      "Data columns (total 16 columns):\n",
      "object_id                     8823 non-null int64\n",
      "creation_time                 8823 non-null datetime64[ns]\n",
      "name                          8823 non-null object\n",
      "email                         8823 non-null object\n",
      "creation_source               8823 non-null object\n",
      "last_session_creation_time    8823 non-null float64\n",
      "opted_in_to_mailing_list      8823 non-null int64\n",
      "enabled_for_marketing_drip    8823 non-null int64\n",
      "org_id                        8823 non-null int64\n",
      "invited_by_user_id            4776 non-null float64\n",
      "email_type                    8823 non-null float64\n",
      "creation_source_num           8823 non-null float64\n",
      "creation_year                 8823 non-null int64\n",
      "creation_month                8823 non-null int64\n",
      "user_id                       8823 non-null int32\n",
      "adopt                         8823 non-null float64\n",
      "dtypes: datetime64[ns](1), float64(5), int32(1), int64(6), object(3)\n",
      "memory usage: 1.1+ MB\n"
     ]
    }
   ],
   "source": [
    "merged_df['counter'] = 1\n",
    "merged_df.info(null_counts = True)"
   ]
  },
  {
   "cell_type": "code",
   "execution_count": 218,
   "metadata": {},
   "outputs": [],
   "source": [
    "#Create datasets for modeling\n",
    "X = merged_df.drop(['object_id', 'creation_time', 'name', 'email',\\\n",
    "                    'creation_source', 'invited_by_user_id', 'adopt',\\\n",
    "                    'counter', 'user_id'],axis = 1)\n",
    "\n",
    "y = merged_df.adopt"
   ]
  },
  {
   "cell_type": "code",
   "execution_count": 196,
   "metadata": {},
   "outputs": [],
   "source": []
  },
  {
   "cell_type": "code",
   "execution_count": 219,
   "metadata": {},
   "outputs": [],
   "source": [
    "#Split the data into a training and testing set \n",
    "from sklearn.model_selection import train_test_split\n",
    "X_train, X_test, y_train, y_test = \\\n",
    "       train_test_split(X, y, test_size = 0.3, random_state = 42)"
   ]
  },
  {
   "cell_type": "code",
   "execution_count": null,
   "metadata": {},
   "outputs": [],
   "source": [
    "#Chose predictive model from several choices.  Classification algorithm\n",
    "#therefore several choice could be chosen.  Look at top types of classification\n",
    "#algorithms.\n",
    "\n",
    "from sklearn.model_selection import GridSearchCV\n",
    "from sklearn.ensemble import RandomForestClassifier\n",
    "from xgboost import XGBClassifier\n",
    "\n",
    "param_rf = {'n_estimators': [20, 40, 80, 160],\n",
    "            'max_depth': [4, 6, 8],\n",
    "             'n_jobs':[4]}\n",
    "\n",
    "rf = RandomForestClassifier()\n",
    "rf_cv = GridSearchCV(rf, param_rf, cv = 5, refit = True)\n",
    "rf_model = rf_cv.fit(X_train, y_train)\n",
    "\n",
    "\n",
    "param_gb = {'booster': ['gbtree'],\n",
    "          'learning_rate': [0.01, 0.1, 0.3],\n",
    "          'max_depth': [4, 6, 8],\n",
    "           'n_estimators': [50, 100, 200],\n",
    "          'n_jobs': [4]}\n",
    "\n",
    "gb = XGBClassifier()\n",
    "gb_cv = GridSearchCV(gb, param_gb, cv = 5, refit = True)\n",
    "gb_model = gb_cv.fit(X_train, y_train)"
   ]
  },
  {
   "cell_type": "code",
   "execution_count": 209,
   "metadata": {},
   "outputs": [
    {
     "name": "stdout",
     "output_type": "stream",
     "text": [
      "Random Forest best score : 0.821\n",
      "Random Forest best params :  {'max_depth': 4, 'n_estimators': 40, 'n_jobs': 4}\n",
      "XGBoost best score : 0.821\n",
      "XGBoost best params :  {'booster': 'gbtree', 'learning_rate': 0.01, 'max_depth': 4, 'n_estimators': 50, 'n_jobs': 4}\n"
     ]
    }
   ],
   "source": [
    "#Determine best fit parameters and run models new parameters\n",
    "print('Random Forest best score : %.3f'%(rf_cv.best_score_))\n",
    "print('Random Forest best params : ', rf_cv.best_params_)\n",
    "\n",
    "print('XGBoost best score : %.3f'%(gb_cv.best_score_))\n",
    "print('XGBoost best params : ', gb_cv.best_params_)"
   ]
  },
  {
   "cell_type": "code",
   "execution_count": 210,
   "metadata": {},
   "outputs": [],
   "source": [
    "#rf_param_best = rf_cv.best_params_\n",
    "#gb_param_best = rf_cv.best_params_\n",
    "rf_param_best = {'max_depth': 6, 'n_estimators': 20, 'n_jobs': 4}\n",
    "gb_param_best = {'booster': 'gbtree', 'learning_rate': 0.1, 'max_depth': 4,\\\n",
    "                 'n_estimators': 100, 'n_jobs': 4}\n",
    "rf = RandomForestClassifier(**rf_param_best)\n",
    "gb = XGBClassifier(**gb_param_best)\n",
    "\n",
    "rf_model = rf.fit(X_train, y_train)\n",
    "gb_model = gb.fit(X_train, y_train)"
   ]
  },
  {
   "cell_type": "code",
   "execution_count": 211,
   "metadata": {},
   "outputs": [
    {
     "data": {
      "image/png": "[encoded data removed]",
      "text/plain": [
       "<Figure size 504x360 with 1 Axes>"
      ]
     },
     "metadata": {
      "needs_background": "light"
     },
     "output_type": "display_data"
    },
    {
     "data": {
      "image/png": "[encoded data removed]",
      "text/plain": [
       "<Figure size 504x360 with 1 Axes>"
      ]
     },
     "metadata": {
      "needs_background": "light"
     },
     "output_type": "display_data"
    }
   ],
   "source": [
    "#Display feature importance\n",
    "def feature_imp_plot(model_name, model, X_train):\n",
    "    features = X_train.columns\n",
    "    feat_imp = model.feature_importances_\n",
    "    feat = pd.DataFrame()\n",
    "    feat['feature'] = features\n",
    "    feat['importance'] = feat_imp\n",
    "    feat = feat.sort_values('importance')\n",
    "\n",
    "    wide = np.arange(len(feat_imp))\n",
    "    plt.figure(figsize = (7,5))\n",
    "    plt.barh(wide, feat['importance'])\n",
    "    plt.yticks(wide, feat['feature'])\n",
    "    plt.xlabel('Feature Importance', fontsize = 14)\n",
    "    plt.title('Feature Importance for '+model_name, fontsize = 14)\n",
    "    plt.tight_layout()\n",
    "    plt.savefig('FeatureImportance_embed_av.png', bbox = 'tight')\n",
    "    plt.savefig('./Figures/FeatImp_'+model_name+'.png', bbox_inches = 'tight')\n",
    "    plt.show()\n",
    "    \n",
    "feature_imp_plot('Random Forest', rf, X_train)\n",
    "feature_imp_plot('XGBoost', gb, X_train)"
   ]
  },
  {
   "cell_type": "code",
   "execution_count": 212,
   "metadata": {},
   "outputs": [
    {
     "name": "stdout",
     "output_type": "stream",
     "text": [
      "Random Forest Accuracy 0.813\n",
      "XGBoost Accuracy 0.813\n"
     ]
    }
   ],
   "source": [
    "from sklearn.metrics import accuracy_score\n",
    "#Look at the result of create model ensemble on accuracy\n",
    "rf_prob = rf.predict_proba(X_test)\n",
    "gb_prob = gb.predict_proba(X_test)\n",
    "\n",
    "rf_y = [round(value[1]) for value in rf_prob]\n",
    "gb_y = [round(value[1]) for value in gb_prob]\n",
    "\n",
    "#Find the maximum accuracy for ensemble weights\n",
    "rf_accuracy = accuracy_score(y_test, rf_y)\n",
    "gb_accuracy = accuracy_score(y_test, gb_y)\n",
    "\n",
    "print('Random Forest Accuracy %.3f'%(rf_accuracy))\n",
    "print('XGBoost Accuracy %.3f'%(gb_accuracy))"
   ]
  },
  {
   "cell_type": "code",
   "execution_count": 213,
   "metadata": {},
   "outputs": [
    {
     "data": {
      "image/png": "[encoded data removed]",
      "text/plain": [
       "<Figure size 864x288 with 2 Axes>"
      ]
     },
     "metadata": {
      "needs_background": "light"
     },
     "output_type": "display_data"
    }
   ],
   "source": [
    "#Calculate ROC and AUC values for each model\n",
    "from sklearn.metrics import roc_curve, roc_auc_score\n",
    "def plot_roc(model_name, pred):\n",
    "    fpr, tpr, thresholds = roc_curve(y_test, pred)\n",
    "    auc = roc_auc_score(y_test, pred)\n",
    "    \n",
    "    plt.plot(fpr, tpr, color = 'blue')\n",
    "    plt.plot([0,1], [0,1], color = 'red', linestyle = '--')\n",
    "    plt.xlabel('FPR', fontsize = 14)\n",
    "    plt.ylabel('TPR', fontsize = 14)\n",
    "    plt.title('ROC Curve for '+model_name, fontsize = 14)\n",
    "    plt.axis([0, 1, 0, 1])\n",
    "    plt.legend(['AUC %.3f'%auc], loc = 'lower right', fontsize = 14)\n",
    "\n",
    "plt.figure(figsize=(12,4))\n",
    "plt.subplot(121); plot_roc('Random Forest', rf_y)\n",
    "plt.subplot(122); plot_roc('XGBoost', gb_y)\n",
    "plt.savefig('./Figures/ROC_rf_gb.png', bbox_inches = 'tight')\n",
    "plt.show()"
   ]
  },
  {
   "cell_type": "code",
   "execution_count": 214,
   "metadata": {},
   "outputs": [],
   "source": [
    "#Calculate histograms of adoption data for different features\n",
    "\n",
    "\n",
    "create_year_hist_total = merged_df.groupby('creation_year').sum().counter\n",
    "create_month_hist_total = merged_df.groupby('creation_month').sum().counter\n",
    "creation_source_hist_total = merged_df.groupby('creation_source_num').sum().counter\n",
    "marketing_hist_total = merged_df.groupby('enabled_for_marketing_drip').sum().counter\n",
    "mailing_hist_total = merged_df.groupby('opted_in_to_mailing_list').sum().counter\n",
    "org_hist_total = merged_df.groupby('org_id').sum().counter\n",
    "\n",
    "\n",
    "create_year_hist = merged_df.groupby('creation_year').sum().adopt\n",
    "create_month_hist = merged_df.groupby('creation_month').sum().adopt\n",
    "creation_source_hist = merged_df.groupby('creation_source_num').sum().adopt\n",
    "mailing_hist = merged_df.groupby('opted_in_to_mailing_list').sum().adopt\n",
    "org_hist = merged_df.groupby('org_id').sum().adopt\n",
    "\n",
    "last_min = merged_df.last_session_creation_time.min()\n",
    "last_max = merged_df.last_session_creation_time.max()\n",
    "last_session = pd.DataFrame(np.zeros((10,3)), columns = ['last_session', 'count', 'total'])\n",
    "last_session.last_session = pd.Series(np.linspace(last_min, last_max, 10))\n",
    "last_session = last_session.set_index('last_session')\n",
    "\n",
    "\n",
    "for indx in range(len(merged_df.last_session_creation_time)):\n",
    "    temp = merged_df.iloc[indx].last_session_creation_time\n",
    "    temp2 = np.abs(last_session.index.values-temp)\n",
    "    \n",
    "    last_session.iloc[np.argmin(temp2)]['count'] += merged_df.iloc[indx].adopt\n",
    "    last_session.iloc[np.argmin(temp2)]['total'] += 1"
   ]
  },
  {
   "cell_type": "code",
   "execution_count": 215,
   "metadata": {},
   "outputs": [
    {
     "name": "stderr",
     "output_type": "stream",
     "text": [
      "C:\\Users\\jjjon\\Anaconda3\\lib\\site-packages\\ipykernel_launcher.py:4: SettingWithCopyWarning: \n",
      "A value is trying to be set on a copy of a slice from a DataFrame\n",
      "\n",
      "See the caveats in the documentation: http://pandas.pydata.org/pandas-docs/stable/indexing.html#indexing-view-versus-copy\n",
      "  after removing the cwd from sys.path.\n"
     ]
    }
   ],
   "source": [
    "last_session['last_session2'] = pd.Series(datetime.fromtimestamp(last_session.index.astype('int')[1]))\n",
    "count = 0\n",
    "for indx in last_session.index:\n",
    "    last_session['last_session2'][count] =\\\n",
    "        datetime.fromtimestamp(last_session.index.astype('int')[count]).date()\n",
    "    count += 1\n"
   ]
  },
  {
   "cell_type": "code",
   "execution_count": null,
   "metadata": {},
   "outputs": [],
   "source": []
  },
  {
   "cell_type": "code",
   "execution_count": 217,
   "metadata": {},
   "outputs": [
    {
     "data": {
      "image/png": "[encoded data removed]",
      "text/plain": [
       "<Figure size 720x864 with 6 Axes>"
      ]
     },
     "metadata": {
      "needs_background": "light"
     },
     "output_type": "display_data"
    },
    {
     "data": {
      "image/png": "[encoded data removed]",
      "text/plain": [
       "<Figure size 432x288 with 1 Axes>"
      ]
     },
     "metadata": {
      "needs_background": "light"
     },
     "output_type": "display_data"
    }
   ],
   "source": [
    "#Plot histograms of different features with the adoption fraction shown\n",
    "\n",
    "plt.figure(figsize=(10,12))\n",
    "\n",
    "frac_last_session = last_session['count']/last_session['total']\n",
    "frac_create_year = create_year_hist/create_year_hist_total\n",
    "frac_create_month = create_month_hist/create_month_hist_total\n",
    "frac_source = creation_source_hist/creation_source_hist_total\n",
    "frac_marketing = marketing_hist/marketing_hist_total\n",
    "frac_mailing = mailing_hist/mailing_hist_total\n",
    "frac_org = org_hist/org_hist_total\n",
    "\n",
    "plt.subplot(321); plt.bar(frac_create_year.index, frac_create_year)\n",
    "plt.title('Creation Year', fontsize = 14)\n",
    "plt.ylabel('Adoption Fraction', fontsize = 14)\n",
    "plt.yticks(fontsize = 14)\n",
    "plt.xticks((2012, 2013, 2014), ('2012', '2013', '2014'),fontsize = 14)\n",
    "\n",
    "plt.subplot(322); plt.bar(frac_create_month.index, frac_create_month)\n",
    "plt.title('Creation Month', fontsize = 14)\n",
    "plt.ylabel('Adoption Fraction', fontsize = 14)\n",
    "plt.yticks(fontsize = 14)\n",
    "plt.xticks(fontsize = 14)\n",
    "\n",
    "plt.subplot(323); plt.bar(last_session.last_session2.astype('str'), frac_last_session)\n",
    "plt.title('Last Session Time', fontsize = 14)\n",
    "plt.ylabel('Adoption Fraction', fontsize = 14)\n",
    "plt.yticks(fontsize = 14)\n",
    "plt.xticks(rotation = 90, fontsize = 14)\n",
    "\n",
    "plt.subplot(324); plt.bar(temp_unique, frac_source)\n",
    "plt.title('Creation Source', fontsize = 14)\n",
    "plt.ylabel('Adoption Fraction', fontsize = 14)\n",
    "plt.yticks(fontsize = 14)\n",
    "plt.xticks(rotation = 45, fontsize = 10)\n",
    "\n",
    "plt.subplot(325); plt.bar(['No Marketing', 'Marketing'], frac_marketing)\n",
    "plt.title('Enabled for Marketing', fontsize = 14)\n",
    "plt.ylabel('Adoption Fraction', fontsize = 14)\n",
    "plt.yticks(fontsize = 14)\n",
    "plt.xticks(fontsize = 14)\n",
    "\n",
    "plt.subplot(326); plt.bar(['Not Opted In', 'Opted In'], frac_mailing)\n",
    "plt.title('Opted for Mailing List', fontsize = 14)\n",
    "plt.ylabel('Adoption Fraction', fontsize = 14)\n",
    "plt.yticks(fontsize = 14)\n",
    "plt.xticks(fontsize = 14)\n",
    "\n",
    "\n",
    "plt.tight_layout()\n",
    "plt.savefig('./Figures/ApotionFrac_Hist.png')\n",
    "plt.show()\n",
    "\n",
    "plt.bar(frac_org.index, frac_org)\n",
    "plt.title('Opted for Mailing List', fontsize = 14)\n",
    "plt.ylabel('Adoption Fraction', fontsize = 14)\n",
    "plt.yticks(fontsize = 14)\n",
    "plt.xticks(fontsize = 14)\n",
    "plt.tick_params(\n",
    "    axis='x',  \n",
    "    which='both',      \n",
    "    bottom=False,      \n",
    "    top=False,         \n",
    "    labelbottom=False)\n",
    "plt.show()"
   ]
  }
 ],
 "metadata": {
  "kernelspec": {
   "display_name": "Python 3",
   "language": "python",
   "name": "python3"
  },
  "language_info": {
   "codemirror_mode": {
    "name": "ipython",
    "version": 3
   },
   "file_extension": ".py",
   "mimetype": "text/x-python",
   "name": "python",
   "nbconvert_exporter": "python",
   "pygments_lexer": "ipython3",
   "version": "3.7.0"
  }
 },
 "nbformat": 4,
 "nbformat_minor": 2
}
