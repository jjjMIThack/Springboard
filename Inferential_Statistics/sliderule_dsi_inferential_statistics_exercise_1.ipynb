{
 "cells": [
  {
   "cell_type": "markdown",
   "metadata": {},
   "source": [
    "# What is the True Normal Human Body Temperature? \n",
    "\n",
    "#### Background\n",
    "\n",
    "The mean normal body temperature was held to be 37$^{\\circ}$C or 98.6$^{\\circ}$F for more than 120 years since it was first conceptualized and reported by Carl Wunderlich in a famous 1868 book. But, is this value statistically correct?"
   ]
  },
  {
   "cell_type": "markdown",
   "metadata": {},
   "source": [
    "<h3>Exercises</h3>\n",
    "\n",
    "<p>In this exercise, you will analyze a dataset of human body temperatures and employ the concepts of hypothesis testing, confidence intervals, and statistical significance.</p>\n",
    "\n",
    "<p>Answer the following questions <b>in this notebook below and submit to your Github account</b>.</p> \n",
    "\n",
    "<ol>\n",
    "<li>  Is the distribution of body temperatures normal? \n",
    "    <ul>\n",
    "    <li> Although this is not a requirement for the Central Limit Theorem to hold (read the introduction on Wikipedia's page about the CLT carefully: https://en.wikipedia.org/wiki/Central_limit_theorem), it gives us some peace of mind that the population may also be normally distributed if we assume that this sample is representative of the population.\n",
    "    <li> Think about the way you're going to check for the normality of the distribution. Graphical methods are usually used first, but there are also other ways: https://en.wikipedia.org/wiki/Normality_test\n",
    "    </ul>\n",
    "<li>  Is the sample size large? Are the observations independent?\n",
    "    <ul>\n",
    "    <li> Remember that this is a condition for the Central Limit Theorem, and hence the statistical tests we are using, to apply.\n",
    "    </ul>\n",
    "<li>  Is the true population mean really 98.6 degrees F?\n",
    "    <ul>\n",
    "    <li> First, try a bootstrap hypothesis test.\n",
    "    <li> Now, let's try frequentist statistical testing. Would you use a one-sample or two-sample test? Why?\n",
    "    <li> In this situation, is it appropriate to use the $t$ or $z$ statistic? \n",
    "    <li> Now try using the other test. How is the result be different? Why?\n",
    "    </ul>\n",
    "<li>  Draw a small sample of size 10 from the data and repeat both frequentist tests. \n",
    "    <ul>\n",
    "    <li> Which one is the correct one to use? \n",
    "    <li> What do you notice? What does this tell you about the difference in application of the $t$ and $z$ statistic?\n",
    "    </ul>\n",
    "<li>  At what temperature should we consider someone's temperature to be \"abnormal\"?\n",
    "    <ul>\n",
    "    <li> As in the previous example, try calculating everything using the boostrap approach, as well as the frequentist approach.\n",
    "    <li> Start by computing the margin of error and confidence interval. When calculating the confidence interval, keep in mind that you should use the appropriate formula for one draw, and not N draws.\n",
    "    </ul>\n",
    "<li>  Is there a significant difference between males and females in normal temperature?\n",
    "    <ul>\n",
    "    <li> What testing approach did you use and why?\n",
    "    <li> Write a story with your conclusion in the context of the original problem.\n",
    "    </ul>\n",
    "</ol>\n",
    "\n",
    "You can include written notes in notebook cells using Markdown: \n",
    "   - In the control panel at the top, choose Cell > Cell Type > Markdown\n",
    "   - Markdown syntax: http://nestacms.com/docs/creating-content/markdown-cheat-sheet\n",
    "\n",
    "#### Resources\n",
    "\n",
    "+ Information and data sources: http://www.amstat.org/publications/jse/datasets/normtemp.txt, http://www.amstat.org/publications/jse/jse_data_archive.htm\n",
    "+ Markdown syntax: http://nestacms.com/docs/creating-content/markdown-cheat-sheet\n",
    "\n",
    "****"
   ]
  },
  {
   "cell_type": "code",
   "execution_count": 1,
   "metadata": {},
   "outputs": [
    {
     "data": {
      "text/plain": [
       "Index(['temperature', 'gender', 'heart_rate'], dtype='object')"
      ]
     },
     "execution_count": 1,
     "metadata": {},
     "output_type": "execute_result"
    }
   ],
   "source": [
    "import pandas as pd\n",
    "import matplotlib.pyplot as plt\n",
    "import numpy as np\n",
    "import math\n",
    "from scipy import stats\n",
    "df = pd.read_csv('data/human_body_temperature.csv')\n",
    "df.columns"
   ]
  },
  {
   "cell_type": "markdown",
   "metadata": {},
   "source": [
    "# Problem 1"
   ]
  },
  {
   "cell_type": "code",
   "execution_count": 6,
   "metadata": {},
   "outputs": [
    {
     "data": {
      "image/png": "[encoded data removed]",
      "text/plain": [
       "<Figure size 432x288 with 1 Axes>"
      ]
     },
     "metadata": {
      "needs_background": "light"
     },
     "output_type": "display_data"
    },
    {
     "data": {
      "image/png": "[encoded data removed]",
      "text/plain": [
       "<Figure size 432x288 with 1 Axes>"
      ]
     },
     "metadata": {
      "needs_background": "light"
     },
     "output_type": "display_data"
    },
    {
     "name": "stdout",
     "output_type": "stream",
     "text": [
      "The distribution kurtosis = 0.7049597854114693 and skew = -0.004367976879081625\n",
      "The data comes from a normal distribution: do not reject null hypothesis\n"
     ]
    }
   ],
   "source": [
    "#1 Is the body temperature normally distributed?\n",
    "#Create a function for a CDF \n",
    "def cdf(data):\n",
    "    x = np.sort(data)\n",
    "    inds = np.arange(1,len(x)+1)\n",
    "    y = inds/len(x)\n",
    "    \n",
    "    return x, y\n",
    "\n",
    "#Calculate the CDF for the body temperature data along with a series of data for a random normal\n",
    "#distribution about the mean and standard deviation of the body temperature data\n",
    "x, y = cdf(df.temperature)\n",
    "\n",
    "mu = np.mean(df.temperature)\n",
    "sigma = np.std(df.temperature)\n",
    "kur = stats.kurtosis(df.temperature)\n",
    "sk = stats.skew(df.temperature)\n",
    "datanorm= np.random.normal(mu, sigma, 10000)\n",
    "xnew = np.arange(min(datanorm), max(datanorm) + 1, .05)\n",
    "datanew = 1/np.sqrt(2*math.pi*sigma**2)*np.exp(-(xnew-mu)**2/(2*sigma**2))\n",
    "\n",
    "xnorm, ynorm = cdf(datanorm)\n",
    "\n",
    "#Plot a CDF of the body temperature data along with with a pure normal distribution\n",
    "plt.plot(x,y, marker = '.', linestyle = 'none')\n",
    "plt.plot(xnorm, ynorm, color = 'red')\n",
    "plt.xlabel('Body Temperature (F)')\n",
    "plt.ylabel('CDF')\n",
    "\n",
    "plt.show()\n",
    "\n",
    "#Plot histogram of the body temperature along with a pure normal distribution of the data\n",
    "datanorm = pd.Series(datanorm)\n",
    "_ = plt.hist(df.temperature, color = 'blue', bins = 20, density =True)\n",
    "#_ = datanorm.plot.kde(color = 'red')\n",
    "plt.xlabel('Body Temperature (F)')\n",
    "plt.plot(xnew, datanew, color = 'red')\n",
    "plt.axis([95, 102, 0, 0.7])\n",
    "plt.show()\n",
    "\n",
    "#Use the normaltest in scipy stats package to compare find if the data \n",
    "#is drawn from a normal distribution\n",
    "alpha = 0.05 #Cutoff limit to determine if p-value is sufficient for data to be guassian\n",
    "#Calculate a test statistic for normal test\n",
    "k2, p = stats.normaltest(df.temperature)\n",
    "print('The distribution kurtosis =', kur, 'and skew =', sk)\n",
    "if p > alpha: #null hypothesis: data comes from normal distribution\n",
    "    print('The data comes from a normal distribution: do not reject null hypothesis')\n",
    "else:\n",
    "    print('The data does not come from the normal distribution: reject null hypothesis using normal test')"
   ]
  },
  {
   "cell_type": "markdown",
   "metadata": {},
   "source": [
    "## Problem 1 explaination\n",
    "The CDF shows that the body temperature data is closely related to a normal distribution.  This is somewhat less obvious when looking at a histogram of the data, which only slightly normally distributed.  When we look at measurements such as kurtosis and skewness we see that the skewness is very close to zero and therefore is indicative of a normal distribution.  The kurtosis on the other hand is moderately large and should be zero for a normal distribution.  From these two measurements one could conclude that the distribution appears approximately normal.  However, if we use python's built in stats.normaltest function which uses the kurtosis and skew in the D'Agostino's K^2 test at set alpha = 0.05 then we find that we fail to reject the null hypothesis therefore the data comes from the normal distribution."
   ]
  },
  {
   "cell_type": "markdown",
   "metadata": {},
   "source": [
    "# Problem 2"
   ]
  },
  {
   "cell_type": "code",
   "execution_count": 164,
   "metadata": {},
   "outputs": [
    {
     "name": "stdout",
     "output_type": "stream",
     "text": [
      "Number of data points is 130\n",
      "The sample mean is 98.24923076923078 and the bootstramp mean of means is 98.24937784615385\n"
     ]
    },
    {
     "data": {
      "image/png": "[encoded data removed]",
      "text/plain": [
       "<Figure size 432x288 with 1 Axes>"
      ]
     },
     "metadata": {
      "needs_background": "light"
     },
     "output_type": "display_data"
    },
    {
     "data": {
      "image/png": "[encoded data removed]",
      "text/plain": [
       "<Figure size 432x288 with 1 Axes>"
      ]
     },
     "metadata": {
      "needs_background": "light"
     },
     "output_type": "display_data"
    }
   ],
   "source": [
    "#2 Is this dataset large and does it statistfy that observations are independent?\n",
    "temp_len = len(df.temperature)\n",
    "print('Number of data points is',temp_len)\n",
    "\n",
    "#Create a function to test the mean of a bootstrap samples to ensure it is of a guassian shape\n",
    "def bs_func(data, func, size = 1):\n",
    "    bs_funcs = np.empty(size)\n",
    "    for index in range(size):\n",
    "        temp = np.random.choice(data, size=len(data))\n",
    "        bs_funcs[index] = func(temp)\n",
    "    \n",
    "    return bs_funcs\n",
    "\n",
    "bs_mean = bs_func(df.temperature, np.mean, 10000)\n",
    "x_bs_mean, y_bs_mean = cdf(bs_mean)\n",
    "\n",
    "#Compare the mean of the sample to the average mean of the bootstrap sample means\n",
    "mu_bs = np.mean(bs_mean)\n",
    "print('The sample mean is', mu, 'and the bootstramp mean of means is', mu_bs)\n",
    "#Display histogram of the bs means\n",
    "plt.hist(bs_mean, bins=100, density = True)\n",
    "plt.xlabel('Body Temperature (F)')\n",
    "plt.ylabel('Normed Count')\n",
    "plt.show()\n",
    "#Show CDF of the bs means\n",
    "plt.plot(x_bs_mean, y_bs_mean, color='blue', marker='.', linestyle='none')\n",
    "plt.xlabel('Body Temperature (F)')\n",
    "plt.ylabel('CDF')\n",
    "plt.show()"
   ]
  },
  {
   "cell_type": "markdown",
   "metadata": {},
   "source": [
    "## Problem 2 explaination\n",
    "The number of data points in the data set is 130 which exceeds the 30 data points needed for the data to satisfy the central limit theorem.  Also, the observations can certainly be considered independent since it is assumed that the body temperature measurements were taken from different people from a large population.  It is reasonable to assume that the population is large enough that 130 measurements is less that 10% of the total population."
   ]
  },
  {
   "cell_type": "markdown",
   "metadata": {},
   "source": [
    "# Problem 3\n"
   ]
  },
  {
   "cell_type": "markdown",
   "metadata": {},
   "source": [
    "## Bootstrap hypothesis test"
   ]
  },
  {
   "cell_type": "code",
   "execution_count": 161,
   "metadata": {},
   "outputs": [
    {
     "data": {
      "image/png": "[encoded data removed]",
      "text/plain": [
       "<Figure size 432x288 with 1 Axes>"
      ]
     },
     "metadata": {
      "needs_background": "light"
     },
     "output_type": "display_data"
    },
    {
     "name": "stdout",
     "output_type": "stream",
     "text": [
      "The temperature difference between the sample mean and 98.6F is  -0.35076923076921673 F\n",
      "The p-value is 0.0\n"
     ]
    }
   ],
   "source": [
    "#The bootstrap method first requires the data to be shifted and make a function that draws bootstrap\n",
    "#samples with the difference between the mean and the expected value\n",
    "def bs_diff_test(data, bt_test, size = 1):\n",
    "    bs_diff = np.empty(size)\n",
    "    \n",
    "    for index in range(size):\n",
    "        temp = np.random.choice(data, size=len(data))\n",
    "        bs_diff[index] = np.mean(temp) - bt_test\n",
    "    return bs_diff\n",
    "\n",
    "bt_test = 98.6\n",
    "temperature_diff = np.mean(df.temperature) - bt_test\n",
    "temperature_shifted = df.temperature - np.mean(df.temperature) + bt_test\n",
    "\n",
    "bs_diff = bs_diff_test(temperature_shifted, bt_test, 10000)\n",
    "bin1 = plt.hist(bs_diff, density = True, bins = 50)\n",
    "\n",
    "plt.plot([temperature_diff, temperature_diff], [0, max(bin1[0])], color = 'red')\n",
    "plt.axis([min(bin1[1]), max(bin1[1]), 0, max(bin1[0])])\n",
    "plt.xlabel('Body Temperature Difference from 98.6F (F)')\n",
    "plt.ylabel('Count Normalized')\n",
    "plt.show()\n",
    "\n",
    "p = np.sum(bs_diff <= temperature_diff)/len(bs_diff)\n",
    "print('The temperature difference between the sample mean and 98.6F is ', temperature_diff,'F')\n",
    "print('The p-value is', p)"
   ]
  },
  {
   "cell_type": "markdown",
   "metadata": {},
   "source": [
    "Bootstramp hypothesis testing shows that when the temperature data is shifted to have a mean of 98.6F and then a bootstrap sampling is used then the p-value associated with getting a temperature difference of -0.351F is p = 0.0.  Hence, we can reject the null hypothesis that the temperature mean is 98.6F."
   ]
  },
  {
   "cell_type": "markdown",
   "metadata": {},
   "source": [
    "## Frequentist statistical testing\n",
    "A one sample test should be used because we have one data sample and one single number to compare; in this case we have the body temperature data and the expected mean body temperature value.  There are a large number of samples, 130 data points, however we do not know the population variance therefore we must use s t statistic."
   ]
  },
  {
   "cell_type": "code",
   "execution_count": 217,
   "metadata": {},
   "outputs": [
    {
     "name": "stdout",
     "output_type": "stream",
     "text": [
      "The T statistic is -5.475925202078116 and the p-value is 2.1887464624095175e-07\n",
      "The Z statistic is -5.475925202078116 and the p-value is 4.3523151658821886e-08\n"
     ]
    }
   ],
   "source": [
    "#Calculate the T statistic using the sample mean and standard deviation\n",
    "from scipy import stats\n",
    "\n",
    "T = (mu - bt_test)/(sigma/np.sqrt(temp_len))\n",
    "p_t = stats.t.cdf(T, df=temp_len - 1)\n",
    "\n",
    "print('The T statistic is', T,'and the p-value is', 2*p_t)\n",
    "\n",
    "Z = (mu - bt_test)/(sigma/np.sqrt(temp_len))\n",
    "p_z = stats.norm.cdf(Z)\n",
    "\n",
    "print('The Z statistic is', T,'and the p-value is', 2*p_z)"
   ]
  },
  {
   "cell_type": "markdown",
   "metadata": {},
   "source": [
    "The t testing gave a very small p-value and we can conclude that the null hypothesis fails.  We find that using both the t and Z statistic shows a small p-value but the p-value of the Z-statistic is smaller than the p-value of the t statistic.  This is because the t statistic accounts for estimations in the population variance therefore the p-value will be naturally larger than when the variance is exactly known."
   ]
  },
  {
   "cell_type": "markdown",
   "metadata": {},
   "source": [
    "# Problem 4"
   ]
  },
  {
   "cell_type": "code",
   "execution_count": 220,
   "metadata": {},
   "outputs": [
    {
     "name": "stdout",
     "output_type": "stream",
     "text": [
      "The T statistic is -2.120472324199871 and the p-value is 0.06298923205780911\n",
      "The Z statistic is -2.120472324199871 and the p-value is 0.03396623308713349\n"
     ]
    }
   ],
   "source": [
    "#Draw a random sample size of 10 from temperature data \n",
    "temp_sample = df.temperature.sample(n=10, replace = False)\n",
    "mu_sample = np.mean(temp_sample)\n",
    "sigma_sample = np.std(temp_sample)\n",
    "\n",
    "Statistic = (mu_sample - bt_test)/(sigma_sample/np.sqrt(10))\n",
    "\n",
    "p_t = stats.t.cdf(Statistic, df=10 - 1)\n",
    "\n",
    "print('The T statistic is', Statistic,'and the p-value is', 2*p_t)\n",
    "\n",
    "p_z = stats.norm.cdf(Statistic)\n",
    "\n",
    "print('The Z statistic is', Statistic,'and the p-value is', 2*p_z)"
   ]
  },
  {
   "cell_type": "markdown",
   "metadata": {},
   "source": [
    "The correct test is use is the t statistic because the sample size is small (10 data points) and the population variance is unknown."
   ]
  },
  {
   "cell_type": "markdown",
   "metadata": {},
   "source": [
    "# Problem 5"
   ]
  },
  {
   "cell_type": "code",
   "execution_count": 224,
   "metadata": {},
   "outputs": [
    {
     "name": "stdout",
     "output_type": "stream",
     "text": [
      "The bootstrap mean 98.248103\n",
      "The boostrap standard deviation is 0.7291667857157235\n",
      "The bootstrap method gives a 95% confidence interval : [96.7 99.5]\n",
      "The frequentist mean is 98.24923076923078\n",
      "The frequentist standard deviation is 0.7303577789050377\n",
      "The frequentist method gives a 95% confidence interval : [96.80420002 99.69426152]\n"
     ]
    }
   ],
   "source": [
    "#Use the bootstrap method to find the confidence interval for the data \n",
    "#sample mean.  This was already found in problem 2 and can be used to find the \n",
    "#95% confindence interval here\n",
    "def bs_func2(data, func, size = 1):\n",
    "    bs_funcs = np.empty(size)\n",
    "    for index in range(size):\n",
    "        temp = np.random.choice(data, size=1)\n",
    "        bs_funcs[index] = func(temp)\n",
    "    \n",
    "    return bs_funcs\n",
    "\n",
    "bs_mean = bs_func2(df.temperature, np.mean, 100000)\n",
    "bs_conf_int = np.percentile(bs_mean, [2.5, 97.5])\n",
    "bs_sigma = np.std(bs_mean)\n",
    "\n",
    "t_95 = stats.t.ppf(0.975, df = temp_len-1)\n",
    "fs_conf_int = mu + np.array([-sigma*t_95, sigma*t_95])\n",
    "\n",
    "print('The bootstrap mean', np.mean(bs_mean))\n",
    "print('The boostrap standard deviation is', bs_sigma)\n",
    "print('The bootstrap method gives a 95% confidence interval :', bs_conf_int)\n",
    "\n",
    "print('The frequentist mean is', mu)\n",
    "print('The frequentist standard deviation is', sigma)\n",
    "print('The frequentist method gives a 95% confidence interval :', fs_conf_int)\n"
   ]
  },
  {
   "cell_type": "markdown",
   "metadata": {},
   "source": [
    "When we take an N=1 draw and calculate the 95% confidence interval using the bootstrap and frequentist methods we find that abnormal temperatures are those lying outside the range of 96.7-99.5F or 96.8-99.7F respectively."
   ]
  },
  {
   "cell_type": "code",
   "execution_count": null,
   "metadata": {},
   "outputs": [],
   "source": []
  },
  {
   "cell_type": "markdown",
   "metadata": {},
   "source": [
    "# Problem 6\n",
    "Lets start by graphically looking at the distribution of temperatures for women versus men."
   ]
  },
  {
   "cell_type": "code",
   "execution_count": 174,
   "metadata": {},
   "outputs": [
    {
     "data": {
      "image/png": "[encoded data removed]",
      "text/plain": [
       "<Figure size 432x288 with 1 Axes>"
      ]
     },
     "metadata": {
      "needs_background": "light"
     },
     "output_type": "display_data"
    }
   ],
   "source": [
    "temp_F = df[df.gender == 'F'].temperature\n",
    "temp_M = df[df.gender == 'M'].temperature\n",
    "\n",
    "F_mean = np.mean(temp_F)\n",
    "M_mean = np.mean(temp_M)\n",
    "\n",
    "bins1 = plt.hist(temp_F, color = 'red', alpha = 0.5, density = True)\n",
    "bins2 = plt.hist(temp_M, color = 'blue', alpha = 0.5, density = True)\n",
    "plt.legend(['Female', 'Male'], loc ='upper right')\n",
    "\n",
    "plt.plot([F_mean, F_mean], [0, 1000], color = 'red')\n",
    "plt.plot([M_mean, M_mean], [0, 1000], color = 'blue')\n",
    "min(np.concatenate((bins1[1], bins2[1])))\n",
    "plt.axis([min(np.concatenate((bins1[1], bins2[1]))),\n",
    "          max(np.concatenate((bins1[1], bins2[1]))),\n",
    "          0, \n",
    "          max(np.concatenate((bins1[0], bins2[0])))])\n",
    "\n",
    "plt.xlabel('Body Temperature (F)')\n",
    "plt.ylabel('Count Normalized')\n",
    "plt.show()"
   ]
  },
  {
   "cell_type": "markdown",
   "metadata": {},
   "source": [
    "Initial impressions show that both male and female distributions are highly overlaying.  The mean temperature (shown as vertical lines) shows that female body temperature is on average higher than male body temperature."
   ]
  },
  {
   "cell_type": "markdown",
   "metadata": {},
   "source": [
    "## Bootstrap method"
   ]
  },
  {
   "cell_type": "code",
   "execution_count": 226,
   "metadata": {},
   "outputs": [
    {
     "name": "stdout",
     "output_type": "stream",
     "text": [
      "The p-value is 0.02\n"
     ]
    },
    {
     "data": {
      "image/png": "[encoded data removed]",
      "text/plain": [
       "<Figure size 432x288 with 1 Axes>"
      ]
     },
     "metadata": {
      "needs_background": "light"
     },
     "output_type": "display_data"
    },
    {
     "name": "stdout",
     "output_type": "stream",
     "text": [
      "The 95% confidence interval is [0.04461538 0.53538462]\n"
     ]
    }
   ],
   "source": [
    "#Write function to calculate boostrap method for difference between the two\n",
    "#means.\n",
    "def bs_mean2(data1, data2, size = 1):\n",
    "    diff_mean = np.empty(size)\n",
    "    \n",
    "    for index in range(size):\n",
    "        temp1 = np.random.choice(data1, size=len(data1))\n",
    "        temp2 = np.random.choice(data2, size=len(data2))\n",
    "        \n",
    "        diff_mean[index] = np.mean(temp1) - np.mean(temp2)\n",
    "    return diff_mean\n",
    "#Find the distribution of the difference between the means using bootstrap\n",
    "bs_diff =bs_mean2(temp_F, temp_M, 20000)\n",
    "\n",
    "#Find the p-value with the null hypothesis that the difference between the \n",
    "#means is 0.\n",
    "p_diff = np.sum(bs_diff <= 0)/len(bs_diff)\n",
    "print('The p-value is', 2*p_diff)\n",
    "\n",
    "binsdiff = plt.hist(bs_diff, bins = 100, color = 'blue', density = True)\n",
    "\n",
    "plt.plot([0, 0], [0, 100000], color = 'red')\n",
    "plt.axis([min(binsdiff[1]), max(binsdiff[1]), 0, max(binsdiff[0])])\n",
    "plt.xlabel('Body Temperature Difference (F)')\n",
    "plt.ylabel('Normalized Count')\n",
    "plt.show()\n",
    "\n",
    "\n",
    "print('The 95% confidence interval is', np.percentile(bs_diff, [2.5, 97.5]))"
   ]
  },
  {
   "cell_type": "markdown",
   "metadata": {},
   "source": [
    "Here we make the null hypothesis that the difference between the mean body temperatures from females to males is 0.  Thus, both men and women are considered to have the same body temperature on average.  Here we find a p-value much lower than 0.05 which suggests that we can reject the null hypothesis and say that there is a difference in body temperature between females and males.  This can also be seen when you look at the 95% confidence interval.  Because the confidence interval does not contain 0 there is a high probability that the body temperatures are different.  In particular, females have a slightly higher body temperature than males."
   ]
  },
  {
   "cell_type": "markdown",
   "metadata": {},
   "source": [
    "## Frequentist method"
   ]
  },
  {
   "cell_type": "code",
   "execution_count": 225,
   "metadata": {},
   "outputs": [
    {
     "name": "stdout",
     "output_type": "stream",
     "text": [
      "The p-value from a t test is 0.024526425958323994\n",
      "The p-value from a z test is 0.021266451830129318\n"
     ]
    }
   ],
   "source": [
    "#Calculate the mean and standard deviation for the data sets\n",
    "F_std = np.std(temp_F)\n",
    "M_std = np.std(temp_M)\n",
    "\n",
    "#Calculate the statistics for the difference between the data sets\n",
    "mean_diff = F_mean - M_mean\n",
    "std_diff = np.sqrt(F_std**2/len(temp_F)+M_std**2/len(temp_M))\n",
    "t_diff = mean_diff/std_diff\n",
    "\n",
    "p_t_diff = 1-stats.t.cdf(t_diff, df= min([len(temp_F), len(temp_M)]) - 1)\n",
    "p_z_diff = 1-stats.norm.cdf(t_diff)\n",
    "\n",
    "print('The p-value from a t test is', 2*p_t_diff)\n",
    "print('The p-value from a z test is', 2*p_z_diff)"
   ]
  },
  {
   "cell_type": "markdown",
   "metadata": {},
   "source": [
    "We recover a similar p-value as to what was seen in the boostrap method.  Thus, we can conclude that the null hypothesis can be rejected and say that there is a difference between the mean body temperatures from females to males.  Note, both the p-values from the t and z test is shown.  In this case, we only have the sample standard deviation and therefore we must use the t test since we lack the population variance."
   ]
  },
  {
   "cell_type": "code",
   "execution_count": null,
   "metadata": {},
   "outputs": [],
   "source": []
  },
  {
   "cell_type": "code",
   "execution_count": null,
   "metadata": {},
   "outputs": [],
   "source": []
  },
  {
   "cell_type": "code",
   "execution_count": null,
   "metadata": {},
   "outputs": [],
   "source": []
  }
 ],
 "metadata": {
  "kernelspec": {
   "display_name": "Python 3",
   "language": "python",
   "name": "python3"
  },
  "language_info": {
   "codemirror_mode": {
    "name": "ipython",
    "version": 3
   },
   "file_extension": ".py",
   "mimetype": "text/x-python",
   "name": "python",
   "nbconvert_exporter": "python",
   "pygments_lexer": "ipython3",
   "version": "3.7.0"
  }
 },
 "nbformat": 4,
 "nbformat_minor": 1
}
