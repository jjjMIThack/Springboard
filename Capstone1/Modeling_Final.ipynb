{
 "cells": [
  {
   "cell_type": "code",
   "execution_count": 57,
   "metadata": {},
   "outputs": [],
   "source": [
    "#Import libraries\n",
    "import pandas as pd\n",
    "import numpy as np\n",
    "import matplotlib.pyplot as plt\n",
    "from xgboost import XGBClassifier\n",
    "from sklearn.model_selection import train_test_split\n",
    "from sklearn.metrics import accuracy_score\n",
    "from sklearn.model_selection import GridSearchCV\n",
    "from sklearn.metrics import roc_curve, roc_auc_score\n",
    "import lightgbm as lgb\n",
    "from sklearn.feature_extraction.text import CountVectorizer\n",
    "from sklearn.decomposition import TruncatedSVD\n",
    "import datetime as dt"
   ]
  },
  {
   "cell_type": "code",
   "execution_count": 2,
   "metadata": {},
   "outputs": [],
   "source": [
    "#Load data: Load both the merged data and the original unaltered data \n",
    "merged_file = '../DataSet/merged_data2.csv'\n",
    "data = pd.read_csv(merged_file, parse_dates =[2])\n",
    "\n",
    "#market_file = '../DataSet/market_clean.csv'\n",
    "#data = pd.read_csv(market_file, parse_dates =[1])\n",
    "\n",
    "#news_file = '../DataSet/news_train_df.csv'\n",
    "#news_data = pd.read_csv(news_file, parse_dates =[1])"
   ]
  },
  {
   "cell_type": "code",
   "execution_count": 3,
   "metadata": {},
   "outputs": [],
   "source": [
    "#Eliminate recession data\n",
    "data = data[data.time >= '2010-1-1']"
   ]
  },
  {
   "cell_type": "markdown",
   "metadata": {},
   "source": [
    "# Word Embedding Using Subjects and Headlines"
   ]
  },
  {
   "cell_type": "code",
   "execution_count": 4,
   "metadata": {},
   "outputs": [],
   "source": [
    "#Eliminate headlineTage and remove all rows without headline data\n",
    "data = data.drop('headlineTag', axis = 1)\n",
    "data = data.fillna(0)\n",
    "data = data[data.headline != 0]\n",
    "data = data.reset_index()"
   ]
  },
  {
   "cell_type": "code",
   "execution_count": 11,
   "metadata": {},
   "outputs": [],
   "source": [
    "#Vectorize the subject lines and then perform svd on them to create new features\n",
    "vectorizer = CountVectorizer()\n",
    "vectorizer.fit(data.subjects)\n",
    "\n",
    "X_subjects = vectorizer.transform(data.subjects)\n",
    "\n",
    "n_comp = 10\n",
    "\n",
    "svd = TruncatedSVD(n_components = n_comp)\n",
    "svd.fit(X_subjects)\n",
    "X_svd = svd.transform(X_subjects)\n",
    "tempmat = pd.SparseDataFrame(X_svd)\n",
    "\n",
    "for index in range(n_comp):\n",
    "    name = 'subject_' + str(index)\n",
    "    data[name] = tempmat.iloc[:,index]\n",
    "\n",
    "var_subject = svd.explained_variance_ratio_\n",
    "del vectorizer, svd, X_svd, tempmat"
   ]
  },
  {
   "cell_type": "code",
   "execution_count": 12,
   "metadata": {},
   "outputs": [
    {
     "data": {
      "text/plain": [
       "(4155955, 1552)"
      ]
     },
     "execution_count": 12,
     "metadata": {},
     "output_type": "execute_result"
    }
   ],
   "source": [
    "X_subjects.shape"
   ]
  },
  {
   "cell_type": "code",
   "execution_count": 9,
   "metadata": {},
   "outputs": [],
   "source": [
    "#Vectorize the headlines and then perform svd on them to create new features\n",
    "vectorizer = CountVectorizer()\n",
    "vectorizer.fit(data.headline)\n",
    "\n",
    "X_subjects = vectorizer.transform(data.headline)\n",
    "\n",
    "n_comp = 10\n",
    "\n",
    "svd = TruncatedSVD(n_components = n_comp)\n",
    "svd.fit(X_subjects)\n",
    "X_svd = svd.transform(X_subjects)\n",
    "tempmat = pd.SparseDataFrame(X_svd)\n",
    "\n",
    "for index in range(n_comp):\n",
    "    name = 'headline_' + str(index)\n",
    "    data[name] = tempmat.iloc[:,index]\n",
    "    \n",
    "var_headline = svd.explained_variance_ratio_\n",
    "del vectorizer, svd, X_svd, tempmat"
   ]
  },
  {
   "cell_type": "code",
   "execution_count": 10,
   "metadata": {},
   "outputs": [
    {
     "data": {
      "text/plain": [
       "(4155955, 167317)"
      ]
     },
     "execution_count": 10,
     "metadata": {},
     "output_type": "execute_result"
    }
   ],
   "source": [
    "X_subjects.shape"
   ]
  },
  {
   "cell_type": "code",
   "execution_count": 8,
   "metadata": {},
   "outputs": [
    {
     "data": {
      "image/png": "[encoded data removed]",
      "text/plain": [
       "<Figure size 432x288 with 1 Axes>"
      ]
     },
     "metadata": {
      "needs_background": "light"
     },
     "output_type": "display_data"
    }
   ],
   "source": [
    "#Graph explained variance ratio for subject and headline svd components.\n",
    "x_vec = range(len(var_headline))\n",
    "var_s = var_subject.sum()\n",
    "var_h = var_headline.sum()\n",
    "\n",
    "plt.plot(x_vec, var_subject, color = 'b', alpha = 0.5)\n",
    "plt.plot(x_vec, var_headline, color = 'r', alpha = 0.5)\n",
    "plt.xlabel('Component Number', fontsize = 14)\n",
    "plt.ylabel('Total Variance Ratio', fontsize = 14)\n",
    "plt.title('Variance Ratio for SVD Components', fontsize = 14)\n",
    "plt.legend(['Subject Var %.3f'%var_s, 'Headline Var %.3f'%var_h], loc = 'upper right', fontsize = 14)\n",
    "plt.savefig('VarianceRatio_embed_av.png', bbox = 'tight')\n",
    "plt.show()"
   ]
  },
  {
   "cell_type": "code",
   "execution_count": 7,
   "metadata": {},
   "outputs": [],
   "source": [
    "#Combine mean of news data information by day\n",
    "data = data.groupby(['assetName','time']).mean()\n",
    "data = data.reset_index(drop = False)"
   ]
  },
  {
   "cell_type": "code",
   "execution_count": 8,
   "metadata": {},
   "outputs": [],
   "source": [
    "#Save compact data to file\n",
    "compact_file = '../DataSet/compact_data_embed.csv'\n",
    "data.to_csv(compact_file)"
   ]
  },
  {
   "cell_type": "code",
   "execution_count": 2,
   "metadata": {},
   "outputs": [],
   "source": [
    "#Load saved compact data\n",
    "compact_file = '../DataSet/compact_data_embed.csv'\n",
    "data = pd.read_csv(compact_file,  parse_dates =[2])"
   ]
  },
  {
   "cell_type": "code",
   "execution_count": null,
   "metadata": {},
   "outputs": [],
   "source": []
  },
  {
   "cell_type": "markdown",
   "metadata": {},
   "source": [
    "# Feature Engineering"
   ]
  },
  {
   "cell_type": "code",
   "execution_count": 3,
   "metadata": {},
   "outputs": [],
   "source": [
    "#Create new features to help in modeling data\n",
    "\n",
    "#Calculate asset name values\n",
    "array_idx = dict(zip(data.assetName.unique(), np.arange(data.assetName.nunique())))\n",
    "data['assetNameT'] = data['assetName'].map(array_idx)\n",
    "\n",
    "#Calculate a rolling average of 5 and 10 days over the stock opening price\n",
    "open5 = data.groupby('assetName')['open'].rolling(window = 5).mean()\n",
    "open10 = data.groupby('assetName')['open'].rolling(window = 10).mean()\n",
    "\n",
    "#Calculate daily log return\n",
    "logr = np.log10(data.close/data.open)\n",
    "\n",
    "#Return Prev10 Raw rolling average over 5 and 10 days\n",
    "r5 = data.groupby('assetName')['returnsOpenPrevRaw10'].rolling(window = 5).mean()\n",
    "r10 = data.groupby('assetName')['returnsOpenPrevRaw10'].rolling(window = 10).mean()\n",
    "\n",
    "#Sentiment class average over 5 and 10 data points\n",
    "sent5 = data.groupby('assetName')['sentimentClass'].rolling(window = 5).mean()\n",
    "sent10 = data.groupby('assetName')['sentimentClass'].rolling(window = 10).mean()\n",
    "\n",
    "#Insert data into dataframe for use in modeling\n",
    "data['open5'] = open5.values\n",
    "data['open10'] = open10.values\n",
    "data['r5'] = r5.values\n",
    "data['r10'] = r10.values\n",
    "data['logr'] = logr\n",
    "data['sent5'] = sent5.values\n",
    "data['sent10'] = sent10.values"
   ]
  },
  {
   "cell_type": "code",
   "execution_count": 10,
   "metadata": {},
   "outputs": [],
   "source": [
    "#data = data.drop(['assetCode', 'assetName', \n",
    " #              'sourceTimestamp', 'firstCreated', 'sourceId', \n",
    " #              'provider', 'subjects', 'audiences', 'assetCodes', \n",
    "  #             'Unnamed: 0', 'Unnamed: 0.1', 'marketCommentary', 'headline'], axis = 1)\n",
    "#['assetCode', 'assetName', \n",
    "#               'sourceTimestamp', 'firstCreated', 'sourceId', \n",
    "#               'provider', 'subjects', 'audiences', 'assetCodes', \n",
    "#               'Unnamed: 0', 'Unnamed: 0.1', 'marketCommentary', 'headline']"
   ]
  },
  {
   "cell_type": "code",
   "execution_count": 9,
   "metadata": {},
   "outputs": [],
   "source": [
    "#Set up X and y for modeling\n",
    "X = data.drop(['marketCommentary', 'Unnamed: 0', 'Unnamed: 0.1', 'Unnamed: 0.1.1',\n",
    "            'bodySize', 'companyCount'], axis = 1)\n",
    "X = X.dropna(axis = 0)\n",
    "y = (X.returnsOpenNextMktres10 >= 0)\n",
    "y = y.astype(int)\n",
    "\n",
    "#Set up additional parameters to calculate final metric used in Two Sigma competition\n",
    "universe = X.dropna(axis = 0).universe\n",
    "r = X.dropna(axis = 0).returnsOpenNextMktres10\n",
    "day = X.dropna(axis = 0).time.dt.date\n",
    "asset_name = X.dropna(axis = 0).assetName\n",
    "\n",
    "X = X.drop(['returnsOpenNextMktres10', 'universe', 'time', 'assetName'], axis = 1)"
   ]
  },
  {
   "cell_type": "code",
   "execution_count": 10,
   "metadata": {},
   "outputs": [],
   "source": [
    "#Create train and test sets\n",
    "X_train, X_test, y_train, y_test, _, univ_test, _, r_test, _, day_test, _, asset_test = \\\n",
    "       train_test_split(X, y, universe, r, day, asset_name, test_size = 0.3, random_state = 42)\n",
    "del X, y, universe, r, day"
   ]
  },
  {
   "cell_type": "code",
   "execution_count": 13,
   "metadata": {},
   "outputs": [
    {
     "name": "stdout",
     "output_type": "stream",
     "text": [
      "527878\n",
      "226234\n"
     ]
    }
   ],
   "source": [
    "print(len(y_train))\n",
    "print(len(y_test))"
   ]
  },
  {
   "cell_type": "markdown",
   "metadata": {},
   "source": [
    "# XGBoost Classifier"
   ]
  },
  {
   "cell_type": "code",
   "execution_count": 11,
   "metadata": {},
   "outputs": [],
   "source": [
    "#Set up model and determine best parameters for XGBClassifier\n",
    "#params = {'n_estimators': [200, 500, 1000, 2000, 4000],\n",
    "#          'max_depth': [4, 6, 8, 10],\n",
    "#          'learning_rate': [.001, .01, 0.1, 0.3],\n",
    "#          'booster': ['gbtree', 'gblinear', 'dart']}\n",
    "params = {'booster': 'gbtree',\n",
    "          'learning_rate': 0.1,\n",
    "          'max_depth': 6,\n",
    "           'n_estimators': 100,\n",
    "          'n_jobs': 4}\n",
    "#gb_cv = GridSearchCV(gb, params, cv = 5, n_jobs = -1)\n",
    "\n",
    "#Preform grid search to find best fit parameters using XGBClassifier\n",
    "#gb_cv.fit(X_train, y_train)\n",
    "\n",
    "#Show the best parameters and best score value determined from the grid search\n",
    "#print(gb_cv.best_params_)\n",
    "#print(gb_cv.best_score_)"
   ]
  },
  {
   "cell_type": "code",
   "execution_count": 12,
   "metadata": {},
   "outputs": [],
   "source": [
    "#Initialize model with optimized parameters\n",
    "model = XGBClassifier(**params)"
   ]
  },
  {
   "cell_type": "code",
   "execution_count": 13,
   "metadata": {},
   "outputs": [
    {
     "name": "stdout",
     "output_type": "stream",
     "text": [
      "Wall time: 2min 45s\n"
     ]
    }
   ],
   "source": [
    "%%time\n",
    "#Fit model to training data\n",
    "gb_model = model.fit(X_train, y_train)"
   ]
  },
  {
   "cell_type": "code",
   "execution_count": 15,
   "metadata": {},
   "outputs": [],
   "source": [
    "#Collection prediction values for classification\n",
    "y_pred = model.predict_proba(X_test)\n",
    "predictions = [round(value[1]) for value in y_pred]"
   ]
  },
  {
   "cell_type": "code",
   "execution_count": 16,
   "metadata": {},
   "outputs": [
    {
     "name": "stdout",
     "output_type": "stream",
     "text": [
      "Accuracy: 0.5867\n"
     ]
    }
   ],
   "source": [
    "#Calculate accuracy score for the predictions\n",
    "accuracy = accuracy_score(y_test, predictions)\n",
    "print('Accuracy: %.4f'%(accuracy))"
   ]
  },
  {
   "cell_type": "code",
   "execution_count": 17,
   "metadata": {},
   "outputs": [
    {
     "data": {
      "image/png": "[encoded data removed]",
      "text/plain": [
       "<Figure size 432x288 with 1 Axes>"
      ]
     },
     "metadata": {
      "needs_background": "light"
     },
     "output_type": "display_data"
    }
   ],
   "source": [
    "#Plot histogram of prediction results.  Notice, using the Two Sigma scoring metric to calculate the \n",
    "#conifidence that returnOpenNextMktres10 is negative or positive.\n",
    "y_r = y_pred[:,1]*2 - 1\n",
    "plt.hist(y_r, bins = 'auto', density = True)\n",
    "plt.xlabel('Residualized Market Return Confidence', fontsize = 14)\n",
    "plt.ylabel('Normalized Count', fontsize = 14)\n",
    "plt.title('Market Return Confidence', fontsize = 14)\n",
    "plt.savefig('ReturnConfidence_embed_av.png', bbox = 'tight')\n",
    "plt.show()"
   ]
  },
  {
   "cell_type": "code",
   "execution_count": 18,
   "metadata": {},
   "outputs": [
    {
     "data": {
      "image/png": "[encoded data removed]",
      "text/plain": [
       "<Figure size 648x576 with 1 Axes>"
      ]
     },
     "metadata": {
      "needs_background": "light"
     },
     "output_type": "display_data"
    }
   ],
   "source": [
    "#Display bar graph of feature importance in model\n",
    "features = X_train.columns\n",
    "feat_imp = model.feature_importances_\n",
    "feat = pd.DataFrame()\n",
    "feat['feature'] = features\n",
    "feat['importance'] = feat_imp\n",
    "feat = feat.sort_values('importance')\n",
    "\n",
    "wide = np.arange(len(feat_imp))\n",
    "plt.figure(figsize = (9,8))\n",
    "plt.barh(wide, feat['importance'])\n",
    "plt.yticks(wide, feat['feature'])\n",
    "plt.xlabel('Feature Importance', fontsize = 14)\n",
    "plt.title('Feature Importance', fontsize = 14)\n",
    "plt.tight_layout()\n",
    "plt.savefig('FeatureImportance_embed_av.png', bbox = 'tight')\n",
    "plt.show()"
   ]
  },
  {
   "cell_type": "code",
   "execution_count": 19,
   "metadata": {
    "scrolled": true
   },
   "outputs": [
    {
     "data": {
      "image/png": "[encoded data removed]",
      "text/plain": [
       "<Figure size 432x288 with 1 Axes>"
      ]
     },
     "metadata": {
      "needs_background": "light"
     },
     "output_type": "display_data"
    }
   ],
   "source": [
    "#Plot ROC curve for XGBClassifier model\n",
    "fpr, tpr, thresholds = roc_curve(y_test, y_pred[:,1])\n",
    "auc = roc_auc_score(y_test, y_pred[:,1])\n",
    "\n",
    "plt.plot(fpr, tpr, color = 'blue')\n",
    "plt.plot([0,1], [0,1], color = 'red', linestyle = '--')\n",
    "plt.xlabel('FPR', fontsize = 14)\n",
    "plt.ylabel('TPR', fontsize = 14)\n",
    "plt.title('ROC Curve', fontsize = 14)\n",
    "plt.axis([0, 1, 0, 1])\n",
    "plt.legend(['AUC %.3f'%auc], loc = 'lower right', fontsize = 14)\n",
    "plt.savefig('ROC_XGBClassifier_embed_av.png', bbox = 'tight')\n",
    "plt.show()"
   ]
  },
  {
   "cell_type": "code",
   "execution_count": 20,
   "metadata": {},
   "outputs": [],
   "source": [
    "#Calculate the metric used Two Sigma competition for scoring\n",
    "def two_sigma_score(y_r, univ_test, r_test):\n",
    "    #Clip outliers for the returnsOpenNextMktres10 data\n",
    "    r_test2 = r_test.clip(-1,1)\n",
    "    \n",
    "    #Calculate scoring metric\n",
    "    y_int = y_r*univ_test*r_test2\n",
    "    df = pd.DataFrame()\n",
    "\n",
    "    df['day'] = day_test[y_int != 0]\n",
    "    df['y_int'] = y_int[y_int != 0]\n",
    "\n",
    "    y_i = df.groupby('day').sum().values.flatten()\n",
    "    mean_i = np.mean(y_i)\n",
    "    std_i = np.std(y_i)\n",
    "\n",
    "    score_ts = mean_i/std_i\n",
    "\n",
    "    return score_ts"
   ]
  },
  {
   "cell_type": "code",
   "execution_count": 21,
   "metadata": {},
   "outputs": [
    {
     "name": "stdout",
     "output_type": "stream",
     "text": [
      "Score using XGBClassifier 0.9241\n"
     ]
    }
   ],
   "source": [
    "score_gb = two_sigma_score(y_r, univ_test, r_test)\n",
    "print('Score using XGBClassifier %.4f'%(score_gb))"
   ]
  },
  {
   "cell_type": "markdown",
   "metadata": {},
   "source": [
    "# Light GBM Classsification"
   ]
  },
  {
   "cell_type": "code",
   "execution_count": 22,
   "metadata": {},
   "outputs": [],
   "source": [
    "#Perform light gbm\n",
    "train_data = lgb.Dataset(X_train, label=y_train)\n",
    "param = {'num_leaves':100,\n",
    "         'objective':'binary',\n",
    "         'max_depth':6,\n",
    "         'learning_rate':0.1,\n",
    "         'max_bin':200}\n",
    "\n",
    "lgb_model = lgb.train(param, train_data, 50)\n",
    "ypred_lgb = lgb_model.predict(X_test)"
   ]
  },
  {
   "cell_type": "code",
   "execution_count": 23,
   "metadata": {},
   "outputs": [],
   "source": [
    "predictions2 = [round(value) for value in ypred_lgb]"
   ]
  },
  {
   "cell_type": "code",
   "execution_count": 24,
   "metadata": {},
   "outputs": [
    {
     "name": "stdout",
     "output_type": "stream",
     "text": [
      "Accuracy: 0.5738\n"
     ]
    }
   ],
   "source": [
    "#Calculate accuracy score for the predictions\n",
    "accuracy = accuracy_score(y_test, predictions2)\n",
    "print('Accuracy: %.4f'%(accuracy))"
   ]
  },
  {
   "cell_type": "code",
   "execution_count": 25,
   "metadata": {},
   "outputs": [
    {
     "data": {
      "image/png": "[encoded data removed]",
      "text/plain": [
       "<Figure size 432x288 with 1 Axes>"
      ]
     },
     "metadata": {
      "needs_background": "light"
     },
     "output_type": "display_data"
    }
   ],
   "source": [
    "#Plot histogram of prediction results.  Notice, using the Two Sigma scoring metric to calculate the \n",
    "#conifidence that returnOpenNextMktres10 is negative or positive.\n",
    "y_r = ypred_lgb*2 - 1\n",
    "plt.hist(y_r, bins = 'auto', density = True)\n",
    "plt.xlabel('Residualized Market Return Confidence', fontsize = 14)\n",
    "plt.ylabel('Normalized Count', fontsize = 14)\n",
    "plt.title('Market Return Confidence', fontsize = 14)\n",
    "plt.savefig('ReturnConfidence_lgb_embed_av.png', bbox = 'tight')\n",
    "plt.show()"
   ]
  },
  {
   "cell_type": "code",
   "execution_count": 26,
   "metadata": {},
   "outputs": [
    {
     "data": {
      "text/plain": [
       "<matplotlib.axes._subplots.AxesSubplot at 0x20e9cbe08d0>"
      ]
     },
     "execution_count": 26,
     "metadata": {},
     "output_type": "execute_result"
    },
    {
     "data": {
      "image/png": "[encoded data removed]",
      "text/plain": [
       "<Figure size 576x864 with 1 Axes>"
      ]
     },
     "metadata": {
      "needs_background": "light"
     },
     "output_type": "display_data"
    }
   ],
   "source": [
    "#Display bar graph of feature importance in model\n",
    "lgb.plot_importance(lgb_model, figsize=(8,12))"
   ]
  },
  {
   "cell_type": "code",
   "execution_count": 49,
   "metadata": {},
   "outputs": [
    {
     "data": {
      "image/png": "[encoded data removed]",
      "text/plain": [
       "<Figure size 432x288 with 1 Axes>"
      ]
     },
     "metadata": {
      "needs_background": "light"
     },
     "output_type": "display_data"
    }
   ],
   "source": [
    "#Calculate ROC curve for light gbm model\n",
    "fpr, tpr, thresholds = roc_curve(y_test, ypred_lgb)\n",
    "auc = roc_auc_score(y_test, ypred_lgb)\n",
    "\n",
    "plt.plot(fpr, tpr, color = 'blue')\n",
    "plt.plot([0,1], [0,1], color = 'red', linestyle = '--')\n",
    "plt.xlabel('FPR', fontsize = 14)\n",
    "plt.ylabel('TPR', fontsize = 14)\n",
    "plt.title('ROC Curve', fontsize = 14)\n",
    "plt.axis([0, 1, 0, 1])\n",
    "plt.legend(['AUC %.3f'%auc], loc = 'lower right', fontsize = 14)\n",
    "plt.savefig('ROC_XGBClassifier_lgb_embed_av.png', bbox = 'tight')\n",
    "plt.show()"
   ]
  },
  {
   "cell_type": "code",
   "execution_count": 22,
   "metadata": {},
   "outputs": [
    {
     "name": "stdout",
     "output_type": "stream",
     "text": [
      "Score using Light GBM 0.8275\n"
     ]
    }
   ],
   "source": [
    "#Calculate the metric used Two Sigma competition for scoring\n",
    "y_r = ypred_lgb*2 - 1\n",
    "score_lb = two_sigma_score(y_r, univ_test, r_test)\n",
    "print('Score using Light GBM %.4f'%(score_lb))"
   ]
  },
  {
   "cell_type": "markdown",
   "metadata": {},
   "source": [
    "# Naive Bayes Classification"
   ]
  },
  {
   "cell_type": "code",
   "execution_count": 23,
   "metadata": {},
   "outputs": [],
   "source": [
    "#Perform Naive Bayes algorithm on data\n",
    "from sklearn.naive_bayes import GaussianNB\n",
    "\n",
    "nb = GaussianNB()\n",
    "nb.fit(X_train, y_train)\n",
    "y_pred_nb = nb.predict(X_test)"
   ]
  },
  {
   "cell_type": "code",
   "execution_count": 24,
   "metadata": {},
   "outputs": [
    {
     "name": "stdout",
     "output_type": "stream",
     "text": [
      "Accuracy: 0.5052\n"
     ]
    }
   ],
   "source": [
    "#Calculate accuracy score for the predictions\n",
    "y_pred_nb = nb.predict_proba(X_test)\n",
    "predictions_nb = [round(value[1]) for value in y_pred_nb]\n",
    "\n",
    "accuracy = accuracy_score(y_test, predictions_nb)\n",
    "print('Accuracy: %.4f'%(accuracy))"
   ]
  },
  {
   "cell_type": "code",
   "execution_count": 54,
   "metadata": {},
   "outputs": [
    {
     "data": {
      "image/png": "[encoded data removed]",
      "text/plain": [
       "<Figure size 432x288 with 1 Axes>"
      ]
     },
     "metadata": {
      "needs_background": "light"
     },
     "output_type": "display_data"
    }
   ],
   "source": [
    "#Plot histogram of prediction results.  Notice, using the Two Sigma scoring metric to calculate the \n",
    "#conifidence that returnOpenNextMktres10 is negative or positive.\n",
    "y_r = y_pred_nb[:,1]*2 - 1\n",
    "plt.hist(y_r, bins = 'auto', density = True)\n",
    "plt.xlabel('Residualized Market Return Confidence', fontsize = 14)\n",
    "plt.ylabel('Normalized Count', fontsize = 14)\n",
    "plt.title('Market Return Confidence', fontsize = 14)\n",
    "plt.savefig('ReturnConfidence_nb_embed_av.png', bbox = 'tight')\n",
    "plt.show()"
   ]
  },
  {
   "cell_type": "code",
   "execution_count": 55,
   "metadata": {},
   "outputs": [
    {
     "name": "stdout",
     "output_type": "stream",
     "text": [
      "Score using NB 0.0810\n"
     ]
    }
   ],
   "source": [
    "#Calculate the metric used Two Sigma competition for scoring\n",
    "score_nb = two_sigma_score(y_r, univ_test, r_test)\n",
    "print('Score using NB %.4f'%(score_nb))"
   ]
  },
  {
   "cell_type": "code",
   "execution_count": 52,
   "metadata": {},
   "outputs": [
    {
     "data": {
      "image/png": "[encoded data removed]",
      "text/plain": [
       "<Figure size 432x288 with 1 Axes>"
      ]
     },
     "metadata": {
      "needs_background": "light"
     },
     "output_type": "display_data"
    }
   ],
   "source": [
    "#Calculate ROC curve for NB model\n",
    "fpr, tpr, thresholds = roc_curve(y_test, y_pred_nb[:,1])\n",
    "auc = roc_auc_score(y_test, y_pred_nb[:,1])\n",
    "\n",
    "plt.plot(fpr, tpr, color = 'blue')\n",
    "plt.plot([0,1], [0,1], color = 'red', linestyle = '--')\n",
    "plt.xlabel('FPR', fontsize = 14)\n",
    "plt.ylabel('TPR', fontsize = 14)\n",
    "plt.title('ROC Curve', fontsize = 14)\n",
    "plt.axis([0, 1, 0, 1])\n",
    "plt.legend(['AUC %.3f'%auc], loc = 'lower right', fontsize = 14)\n",
    "plt.savefig('ROC_XGBClassifier_NB_embed_av.png', bbox = 'tight')\n",
    "plt.show()"
   ]
  },
  {
   "cell_type": "markdown",
   "metadata": {},
   "source": [
    "# KNN Classifier "
   ]
  },
  {
   "cell_type": "code",
   "execution_count": 27,
   "metadata": {},
   "outputs": [
    {
     "name": "stdout",
     "output_type": "stream",
     "text": [
      "Wall time: 5.2 s\n"
     ]
    }
   ],
   "source": [
    "%%time\n",
    "from sklearn.neighbors import KNeighborsClassifier\n",
    "knn = KNeighborsClassifier(n_neighbors = 30)\n",
    "\n",
    "knn_model = knn.fit(X_train, y_train)"
   ]
  },
  {
   "cell_type": "code",
   "execution_count": 28,
   "metadata": {},
   "outputs": [],
   "source": [
    "#Collection prediction values for classification\n",
    "y_knn = knn.predict_proba(X_test)\n",
    "prediction_knn = [round(value[1]) for value in y_knn]"
   ]
  },
  {
   "cell_type": "code",
   "execution_count": 29,
   "metadata": {},
   "outputs": [
    {
     "name": "stdout",
     "output_type": "stream",
     "text": [
      "Accuracy: 0.5251\n"
     ]
    }
   ],
   "source": [
    "#Calculate accuracy score for the predictions\n",
    "accuracy = accuracy_score(y_test, prediction_knn)\n",
    "print('Accuracy: %.4f'%(accuracy))"
   ]
  },
  {
   "cell_type": "code",
   "execution_count": 33,
   "metadata": {},
   "outputs": [
    {
     "data": {
      "image/png": "[encoded data removed]",
      "text/plain": [
       "<Figure size 432x288 with 1 Axes>"
      ]
     },
     "metadata": {
      "needs_background": "light"
     },
     "output_type": "display_data"
    }
   ],
   "source": [
    "#Plot histogram of prediction results.  Notice, using the Two Sigma scoring metric to calculate the \n",
    "#conifidence that returnOpenNextMktres10 is negative or positive.\n",
    "y_r = y_knn[:,1]*2 - 1\n",
    "plt.hist(y_r, bins = 'auto', density = True)\n",
    "plt.xlabel('Residualized Market Return Confidence', fontsize = 14)\n",
    "plt.ylabel('Normalized Count', fontsize = 14)\n",
    "plt.title('Market Return Confidence', fontsize = 14)\n",
    "plt.savefig('ReturnConfidence_knn_embed_av.png', bbox = 'tight')\n",
    "plt.show()"
   ]
  },
  {
   "cell_type": "code",
   "execution_count": 32,
   "metadata": {},
   "outputs": [
    {
     "name": "stdout",
     "output_type": "stream",
     "text": [
      "Score using Light GBM 0.4241\n"
     ]
    }
   ],
   "source": [
    "#Calculate the metric used Two Sigma competition for scoring\n",
    "score_knn = two_sigma_score(y_r, univ_test, r_test)\n",
    "print('Score using KNNf %.4f'%(score_knn))"
   ]
  },
  {
   "cell_type": "code",
   "execution_count": 51,
   "metadata": {},
   "outputs": [
    {
     "data": {
      "image/png": "[encoded data removed]",
      "text/plain": [
       "<Figure size 432x288 with 1 Axes>"
      ]
     },
     "metadata": {
      "needs_background": "light"
     },
     "output_type": "display_data"
    }
   ],
   "source": [
    "#Calculate ROC curve for NB model\n",
    "fpr, tpr, thresholds = roc_curve(y_test, y_knn[:,1])\n",
    "auc = roc_auc_score(y_test, y_knn[:,1])\n",
    "\n",
    "plt.plot(fpr, tpr, color = 'blue')\n",
    "plt.plot([0,1], [0,1], color = 'red', linestyle = '--')\n",
    "plt.xlabel('FPR', fontsize = 14)\n",
    "plt.ylabel('TPR', fontsize = 14)\n",
    "plt.title('ROC Curve', fontsize = 14)\n",
    "plt.axis([0, 1, 0, 1])\n",
    "plt.legend(['AUC %.3f'%auc], loc = 'lower right', fontsize = 14)\n",
    "plt.savefig('ROC_XGBClassifier_knn_embed_av.png', bbox = 'tight')\n",
    "plt.show()"
   ]
  },
  {
   "cell_type": "markdown",
   "metadata": {},
   "source": [
    "# Random Forest"
   ]
  },
  {
   "cell_type": "code",
   "execution_count": 179,
   "metadata": {},
   "outputs": [
    {
     "name": "stdout",
     "output_type": "stream",
     "text": [
      "Wall time: 8min 39s\n"
     ]
    }
   ],
   "source": [
    "%%time\n",
    "from sklearn.ensemble import RandomForestClassifier\n",
    "\n",
    "rf = RandomForestClassifier(n_estimators = 80)\n",
    "rf_model = rf.fit(X_train, y_train)"
   ]
  },
  {
   "cell_type": "code",
   "execution_count": 180,
   "metadata": {},
   "outputs": [],
   "source": [
    "#Collection prediction values for classification\n",
    "y_rf = rf.predict_proba(X_test)\n",
    "prediction_rf = [round(value[1]) for value in y_rf]"
   ]
  },
  {
   "cell_type": "code",
   "execution_count": 181,
   "metadata": {},
   "outputs": [
    {
     "name": "stdout",
     "output_type": "stream",
     "text": [
      "Accuracy: 0.5635\n"
     ]
    }
   ],
   "source": [
    "#Calculate accuracy score for the predictions\n",
    "accuracy = accuracy_score(y_test, prediction_rf)\n",
    "print('Accuracy: %.4f'%(accuracy))"
   ]
  },
  {
   "cell_type": "code",
   "execution_count": 182,
   "metadata": {},
   "outputs": [
    {
     "data": {
      "image/png": "[encoded data removed]",
      "text/plain": [
       "<Figure size 432x288 with 1 Axes>"
      ]
     },
     "metadata": {
      "needs_background": "light"
     },
     "output_type": "display_data"
    }
   ],
   "source": [
    "#Plot histogram of prediction results.  Notice, using the Two Sigma scoring metric to calculate the \n",
    "#conifidence that returnOpenNextMktres10 is negative or positive.\n",
    "y_r = y_rf[:,1]*2 - 1\n",
    "plt.hist(y_r, bins = 'auto', density = True)\n",
    "plt.xlabel('Residualized Market Return Confidence', fontsize = 14)\n",
    "plt.ylabel('Normalized Count', fontsize = 14)\n",
    "plt.title('Market Return Confidence', fontsize = 14)\n",
    "plt.savefig('ReturnConfidence_rf_embed_av.png', bbox = 'tight')\n",
    "plt.show()"
   ]
  },
  {
   "cell_type": "code",
   "execution_count": 183,
   "metadata": {},
   "outputs": [
    {
     "name": "stdout",
     "output_type": "stream",
     "text": [
      "Score using Light GBM 0.8597\n"
     ]
    }
   ],
   "source": [
    "#Calculate the metric used Two Sigma competition for scoring\n",
    "y_r = y_rf[:,1]*2 - 1\n",
    "score_rf = two_sigma_score(y_r, univ_test, r_test)\n",
    "print('Score using Light Random Forest %.4f'%(score_rf))"
   ]
  },
  {
   "cell_type": "code",
   "execution_count": 185,
   "metadata": {},
   "outputs": [
    {
     "data": {
      "image/png": "[encoded data removed]",
      "text/plain": [
       "<Figure size 432x288 with 1 Axes>"
      ]
     },
     "metadata": {
      "needs_background": "light"
     },
     "output_type": "display_data"
    }
   ],
   "source": [
    "#Calculate ROC curve for NB model\n",
    "fpr, tpr, thresholds = roc_curve(y_test, y_rf[:,1])\n",
    "auc = roc_auc_score(y_test, y_rf[:,1])\n",
    "\n",
    "plt.plot(fpr, tpr, color = 'blue')\n",
    "plt.plot([0,1], [0,1], color = 'red', linestyle = '--')\n",
    "plt.xlabel('FPR', fontsize = 14)\n",
    "plt.ylabel('TPR', fontsize = 14)\n",
    "plt.title('ROC Curve', fontsize = 14)\n",
    "plt.axis([0, 1, 0, 1])\n",
    "plt.legend(['AUC %.3f'%auc], loc = 'lower right', fontsize = 14)\n",
    "plt.savefig('ROC_XGBClassifier_knn_embed_av.png', bbox = 'tight')\n",
    "plt.show()"
   ]
  },
  {
   "cell_type": "markdown",
   "metadata": {},
   "source": [
    "# Ensemble Weighted Average of XGBoost and Random Forest"
   ]
  },
  {
   "cell_type": "code",
   "execution_count": 236,
   "metadata": {},
   "outputs": [],
   "source": [
    "#Average of the probabilities for xgboost and random forest\n",
    "y_av = (y_pred[:,1]*3 + y_rf[:,1]*2)/5\n",
    "predictions_av = [round(value) for value in y_av]"
   ]
  },
  {
   "cell_type": "code",
   "execution_count": 237,
   "metadata": {},
   "outputs": [
    {
     "name": "stdout",
     "output_type": "stream",
     "text": [
      "Accuracy: 0.5842\n"
     ]
    }
   ],
   "source": [
    "#Calculate accuracy score for the predictions\n",
    "accuracy = accuracy_score(y_test, predictions_av)\n",
    "print('Accuracy: %.4f'%(accuracy))"
   ]
  },
  {
   "cell_type": "code",
   "execution_count": 238,
   "metadata": {},
   "outputs": [
    {
     "name": "stdout",
     "output_type": "stream",
     "text": [
      "Score using Av XGBoost and RF 0.9467\n"
     ]
    }
   ],
   "source": [
    "y_r = y_av*2 - 1\n",
    "score_av = two_sigma_score(y_r, univ_test, r_test)\n",
    "print('Score using Av XGBoost and RF %.4f'%(score_av))"
   ]
  },
  {
   "cell_type": "markdown",
   "metadata": {},
   "source": [
    "# Ensemble Stacking Classification"
   ]
  },
  {
   "cell_type": "code",
   "execution_count": 186,
   "metadata": {},
   "outputs": [],
   "source": [
    "#Produce Instances of model to use in stacking\n",
    "from sklearn.neighbors import KNeighborsClassifier\n",
    "from sklearn.linear_model import LogisticRegression\n",
    "from mlxtend.classifier import StackingCVClassifier\n",
    "from sklearn import model_selection\n",
    "from sklearn.ensemble import RandomForestClassifier\n",
    "\n",
    "model1 = RandomForestClassifier(n_estimators = 80)\n",
    "model2 = KNeighborsClassifier(n_neighbors = 30)\n",
    "model3 = XGBClassifier(**params)\n",
    "lr = LogisticRegression(solver = 'lbfgs')\n",
    "\n",
    "smodel = StackingCVClassifier(classifiers = [model1, model2, model3],\\\n",
    "                              use_probas = True,\\\n",
    "                              meta_classifier = lr)"
   ]
  },
  {
   "cell_type": "code",
   "execution_count": 40,
   "metadata": {},
   "outputs": [
    {
     "name": "stdout",
     "output_type": "stream",
     "text": [
      "3-fold cross validation score\n",
      "Accuracy: 0.53 (+/- 0.00) [Random Forest]\n",
      "Accuracy: 0.52 (+/- 0.00) [KNN]\n",
      "Accuracy: 0.59 (+/- 0.00) [XGBoost]\n",
      "Accuracy: 0.59 (+/- 0.00) [StackingClassifier]\n"
     ]
    }
   ],
   "source": [
    "#Calculate cross validation scores using stacking classifier\n",
    "print('3-fold cross validation score')\n",
    "for clf, label in zip([model1, model2, model3, smodel], \n",
    "                      ['Random Forest', \n",
    "                       'KNN', \n",
    "                       'XGBoost',\n",
    "                       'StackingClassifier']):\n",
    "\n",
    "    scores = model_selection.cross_val_score(clf, X_train.values, y_train.values, \n",
    "                                              cv=3, scoring='accuracy')\n",
    "    print(\"Accuracy: %0.2f (+/- %0.2f) [%s]\" \n",
    "          % (scores.mean(), scores.std(), label))"
   ]
  },
  {
   "cell_type": "code",
   "execution_count": 187,
   "metadata": {},
   "outputs": [],
   "source": [
    "#Fit the stacking classifier and evaluate results\n",
    "stack_fit = smodel.fit(X_train.values, y_train.values)"
   ]
  },
  {
   "cell_type": "code",
   "execution_count": 188,
   "metadata": {},
   "outputs": [
    {
     "name": "stdout",
     "output_type": "stream",
     "text": [
      "Accuracy: 0.5892\n"
     ]
    }
   ],
   "source": [
    "y_pred_stack = smodel.predict_proba(X_test.values)\n",
    "\n",
    "prediction_stack = [round(value[1]) for value in y_pred_stack]\n",
    "#Calculate accuracy score for the predictions\n",
    "accuracy = accuracy_score(y_test, prediction_stack)\n",
    "print('Accuracy: %.4f'%(accuracy))"
   ]
  },
  {
   "cell_type": "code",
   "execution_count": 189,
   "metadata": {},
   "outputs": [
    {
     "data": {
      "image/png": "[encoded data removed]",
      "text/plain": [
       "<Figure size 432x288 with 1 Axes>"
      ]
     },
     "metadata": {
      "needs_background": "light"
     },
     "output_type": "display_data"
    }
   ],
   "source": [
    "#Plot histogram of prediction results.  Notice, using the Two Sigma scoring metric to calculate the \n",
    "#conifidence that returnOpenNextMktres10 is negative or positive.\n",
    "y_r_stack = y_pred_stack[:,1]*2 - 1\n",
    "plt.hist(y_r_stack, bins = 'auto', density = True)\n",
    "plt.xlabel('Residualized Market Return Confidence', fontsize = 14)\n",
    "plt.ylabel('Normalized Count', fontsize = 14)\n",
    "plt.title('Market Return Confidence', fontsize = 14)\n",
    "plt.savefig('ReturnConfidence_Stack_embed.png', bbox = 'tight')\n",
    "plt.show()"
   ]
  },
  {
   "cell_type": "code",
   "execution_count": 190,
   "metadata": {},
   "outputs": [
    {
     "name": "stdout",
     "output_type": "stream",
     "text": [
      "Score using Stacking Models 0.9547\n"
     ]
    }
   ],
   "source": [
    "#Calcaulate two sigma score for the stacking models\n",
    "y_r = y_pred_stack[:,1]*2 - 1\n",
    "score_stack = two_sigma_score(y_r, univ_test, r_test)\n",
    "print('Score using Stacking Models %.4f'%(score_stack))"
   ]
  },
  {
   "cell_type": "code",
   "execution_count": 191,
   "metadata": {},
   "outputs": [
    {
     "data": {
      "image/png": "[encoded data removed]",
      "text/plain": [
       "<Figure size 432x288 with 1 Axes>"
      ]
     },
     "metadata": {
      "needs_background": "light"
     },
     "output_type": "display_data"
    }
   ],
   "source": [
    "predictions_stack = [round(value) for value in y_pred_stack[:,1]]\n",
    "\n",
    "#Calculate ROC curve for stack model\n",
    "fpr, tpr, thresholds = roc_curve(y_test, predictions_stack)\n",
    "auc = roc_auc_score(y_test, predictions_stack)\n",
    "\n",
    "plt.plot(fpr, tpr, color = 'blue')\n",
    "plt.plot([0,1], [0,1], color = 'red', linestyle = '--')\n",
    "plt.xlabel('FPR', fontsize = 14)\n",
    "plt.ylabel('TPR', fontsize = 14)\n",
    "plt.title('ROC Curve', fontsize = 14)\n",
    "plt.axis([0, 1, 0, 1])\n",
    "plt.legend(['AUC %.3f'%auc], loc = 'lower right', fontsize = 14)\n",
    "plt.savefig('ROC_XGBClassifier_stack__embed.png', bbox = 'tight')\n",
    "plt.show()"
   ]
  },
  {
   "cell_type": "markdown",
   "metadata": {},
   "source": [
    "# Strengths and Weaknesses Analysis"
   ]
  },
  {
   "cell_type": "code",
   "execution_count": 192,
   "metadata": {},
   "outputs": [
    {
     "name": "stdout",
     "output_type": "stream",
     "text": [
      "738\n",
      "447\n"
     ]
    }
   ],
   "source": [
    "#y_r\n",
    "#day_test\n",
    "#asset_test\n",
    "y_r = pd.Series(y_r)\n",
    "weak_y = y_r.abs() < 0.001\n",
    "print(weak_y.sum())\n",
    "strong_y = y_r.abs() > 0.65\n",
    "print(strong_y.sum())"
   ]
  },
  {
   "cell_type": "code",
   "execution_count": 193,
   "metadata": {},
   "outputs": [
    {
     "name": "stdout",
     "output_type": "stream",
     "text": [
      "Strong sent -0.5618775850375207\n",
      "Strong r -0.07967836660386872\n",
      "              num\n",
      "year month       \n",
      "2010 1        3.0\n",
      "     2        7.0\n",
      "     3        3.0\n",
      "     6       37.0\n",
      "     9        1.0\n",
      "2012 4       11.0\n",
      "     5        6.0\n",
      "     6        1.0\n",
      "2013 2        1.0\n",
      "     4        2.0\n",
      "     6        1.0\n",
      "     10       1.0\n",
      "2014 10       5.0\n",
      "     11      12.0\n",
      "     12      42.0\n",
      "2015 1       17.0\n",
      "     2        7.0\n",
      "     7        3.0\n",
      "     8       33.0\n",
      "     9      149.0\n",
      "     10      34.0\n",
      "     11       1.0\n",
      "     12      20.0\n",
      "2016 1       25.0\n",
      "     2       11.0\n",
      "     3        2.0\n",
      "     4        4.0\n",
      "     5        7.0\n",
      "     6        1.0\n"
     ]
    },
    {
     "data": {
      "text/html": [
       "<div>\n",
       "<style scoped>\n",
       "    .dataframe tbody tr th:only-of-type {\n",
       "        vertical-align: middle;\n",
       "    }\n",
       "\n",
       "    .dataframe tbody tr th {\n",
       "        vertical-align: top;\n",
       "    }\n",
       "\n",
       "    .dataframe thead th {\n",
       "        text-align: right;\n",
       "    }\n",
       "</style>\n",
       "<table border=\"1\" class=\"dataframe\">\n",
       "  <thead>\n",
       "    <tr style=\"text-align: right;\">\n",
       "      <th></th>\n",
       "      <th>word</th>\n",
       "      <th>count</th>\n",
       "    </tr>\n",
       "  </thead>\n",
       "  <tbody>\n",
       "    <tr>\n",
       "      <th>3</th>\n",
       "      <td>Inc</td>\n",
       "      <td>147</td>\n",
       "    </tr>\n",
       "    <tr>\n",
       "      <th>17</th>\n",
       "      <td>Corp</td>\n",
       "      <td>119</td>\n",
       "    </tr>\n",
       "    <tr>\n",
       "      <th>51</th>\n",
       "      <td>Energy</td>\n",
       "      <td>71</td>\n",
       "    </tr>\n",
       "    <tr>\n",
       "      <th>14</th>\n",
       "      <td>Ltd</td>\n",
       "      <td>59</td>\n",
       "    </tr>\n",
       "    <tr>\n",
       "      <th>5</th>\n",
       "      <td>SA</td>\n",
       "      <td>38</td>\n",
       "    </tr>\n",
       "    <tr>\n",
       "      <th>28</th>\n",
       "      <td>Co</td>\n",
       "      <td>36</td>\n",
       "    </tr>\n",
       "    <tr>\n",
       "      <th>22</th>\n",
       "      <td>Resources</td>\n",
       "      <td>34</td>\n",
       "    </tr>\n",
       "    <tr>\n",
       "      <th>20</th>\n",
       "      <td>PLC</td>\n",
       "      <td>30</td>\n",
       "    </tr>\n",
       "    <tr>\n",
       "      <th>11</th>\n",
       "      <td>Gold</td>\n",
       "      <td>27</td>\n",
       "    </tr>\n",
       "    <tr>\n",
       "      <th>74</th>\n",
       "      <td>Petroleum</td>\n",
       "      <td>25</td>\n",
       "    </tr>\n",
       "    <tr>\n",
       "      <th>91</th>\n",
       "      <td>Group</td>\n",
       "      <td>24</td>\n",
       "    </tr>\n",
       "    <tr>\n",
       "      <th>47</th>\n",
       "      <td>International</td>\n",
       "      <td>15</td>\n",
       "    </tr>\n",
       "    <tr>\n",
       "      <th>7</th>\n",
       "      <td>Oil</td>\n",
       "      <td>14</td>\n",
       "    </tr>\n",
       "    <tr>\n",
       "      <th>30</th>\n",
       "      <td>Billiton</td>\n",
       "      <td>14</td>\n",
       "    </tr>\n",
       "    <tr>\n",
       "      <th>29</th>\n",
       "      <td>BHP</td>\n",
       "      <td>14</td>\n",
       "    </tr>\n",
       "    <tr>\n",
       "      <th>36</th>\n",
       "      <td>Mining</td>\n",
       "      <td>14</td>\n",
       "    </tr>\n",
       "    <tr>\n",
       "      <th>104</th>\n",
       "      <td>Latam</td>\n",
       "      <td>13</td>\n",
       "    </tr>\n",
       "    <tr>\n",
       "      <th>105</th>\n",
       "      <td>Airlines</td>\n",
       "      <td>13</td>\n",
       "    </tr>\n",
       "    <tr>\n",
       "      <th>48</th>\n",
       "      <td>Transocean</td>\n",
       "      <td>10</td>\n",
       "    </tr>\n",
       "    <tr>\n",
       "      <th>75</th>\n",
       "      <td>Chesapeake</td>\n",
       "      <td>10</td>\n",
       "    </tr>\n",
       "    <tr>\n",
       "      <th>2</th>\n",
       "      <td>Holdings</td>\n",
       "      <td>10</td>\n",
       "    </tr>\n",
       "    <tr>\n",
       "      <th>13</th>\n",
       "      <td>Industries</td>\n",
       "      <td>8</td>\n",
       "    </tr>\n",
       "    <tr>\n",
       "      <th>8</th>\n",
       "      <td>&amp;</td>\n",
       "      <td>8</td>\n",
       "    </tr>\n",
       "    <tr>\n",
       "      <th>86</th>\n",
       "      <td>Oasis</td>\n",
       "      <td>8</td>\n",
       "    </tr>\n",
       "    <tr>\n",
       "      <th>155</th>\n",
       "      <td>PDC</td>\n",
       "      <td>8</td>\n",
       "    </tr>\n",
       "    <tr>\n",
       "      <th>52</th>\n",
       "      <td>Petroleo</td>\n",
       "      <td>7</td>\n",
       "    </tr>\n",
       "    <tr>\n",
       "      <th>57</th>\n",
       "      <td>Drilling</td>\n",
       "      <td>7</td>\n",
       "    </tr>\n",
       "    <tr>\n",
       "      <th>54</th>\n",
       "      <td>Petrobras</td>\n",
       "      <td>7</td>\n",
       "    </tr>\n",
       "    <tr>\n",
       "      <th>76</th>\n",
       "      <td>Newfield</td>\n",
       "      <td>7</td>\n",
       "    </tr>\n",
       "    <tr>\n",
       "      <th>32</th>\n",
       "      <td>Natural</td>\n",
       "      <td>7</td>\n",
       "    </tr>\n",
       "    <tr>\n",
       "      <th>...</th>\n",
       "      <td>...</td>\n",
       "      <td>...</td>\n",
       "    </tr>\n",
       "    <tr>\n",
       "      <th>82</th>\n",
       "      <td>Unibanco</td>\n",
       "      <td>1</td>\n",
       "    </tr>\n",
       "    <tr>\n",
       "      <th>223</th>\n",
       "      <td>QEP</td>\n",
       "      <td>1</td>\n",
       "    </tr>\n",
       "    <tr>\n",
       "      <th>83</th>\n",
       "      <td>Holding</td>\n",
       "      <td>1</td>\n",
       "    </tr>\n",
       "    <tr>\n",
       "      <th>221</th>\n",
       "      <td>Hycroft</td>\n",
       "      <td>1</td>\n",
       "    </tr>\n",
       "    <tr>\n",
       "      <th>218</th>\n",
       "      <td>Allegheny</td>\n",
       "      <td>1</td>\n",
       "    </tr>\n",
       "    <tr>\n",
       "      <th>18</th>\n",
       "      <td>Murphy</td>\n",
       "      <td>1</td>\n",
       "    </tr>\n",
       "    <tr>\n",
       "      <th>38</th>\n",
       "      <td>Nucor</td>\n",
       "      <td>1</td>\n",
       "    </tr>\n",
       "    <tr>\n",
       "      <th>214</th>\n",
       "      <td>Fox</td>\n",
       "      <td>1</td>\n",
       "    </tr>\n",
       "    <tr>\n",
       "      <th>33</th>\n",
       "      <td>Tesla</td>\n",
       "      <td>1</td>\n",
       "    </tr>\n",
       "    <tr>\n",
       "      <th>212</th>\n",
       "      <td>Twenty-First</td>\n",
       "      <td>1</td>\n",
       "    </tr>\n",
       "    <tr>\n",
       "      <th>211</th>\n",
       "      <td>Hecla</td>\n",
       "      <td>1</td>\n",
       "    </tr>\n",
       "    <tr>\n",
       "      <th>210</th>\n",
       "      <td>Diamondback</td>\n",
       "      <td>1</td>\n",
       "    </tr>\n",
       "    <tr>\n",
       "      <th>96</th>\n",
       "      <td>ConocoPhillips</td>\n",
       "      <td>1</td>\n",
       "    </tr>\n",
       "    <tr>\n",
       "      <th>208</th>\n",
       "      <td>BlackRock</td>\n",
       "      <td>1</td>\n",
       "    </tr>\n",
       "    <tr>\n",
       "      <th>206</th>\n",
       "      <td>Biomarin</td>\n",
       "      <td>1</td>\n",
       "    </tr>\n",
       "    <tr>\n",
       "      <th>205</th>\n",
       "      <td>Aegon</td>\n",
       "      <td>1</td>\n",
       "    </tr>\n",
       "    <tr>\n",
       "      <th>204</th>\n",
       "      <td>Randgold</td>\n",
       "      <td>1</td>\n",
       "    </tr>\n",
       "    <tr>\n",
       "      <th>203</th>\n",
       "      <td>Gerdau</td>\n",
       "      <td>1</td>\n",
       "    </tr>\n",
       "    <tr>\n",
       "      <th>202</th>\n",
       "      <td>Caterpillar</td>\n",
       "      <td>1</td>\n",
       "    </tr>\n",
       "    <tr>\n",
       "      <th>201</th>\n",
       "      <td>B2Gold</td>\n",
       "      <td>1</td>\n",
       "    </tr>\n",
       "    <tr>\n",
       "      <th>200</th>\n",
       "      <td>Eclipse</td>\n",
       "      <td>1</td>\n",
       "    </tr>\n",
       "    <tr>\n",
       "      <th>199</th>\n",
       "      <td>SRC</td>\n",
       "      <td>1</td>\n",
       "    </tr>\n",
       "    <tr>\n",
       "      <th>98</th>\n",
       "      <td>Teva</td>\n",
       "      <td>1</td>\n",
       "    </tr>\n",
       "    <tr>\n",
       "      <th>197</th>\n",
       "      <td>Trust</td>\n",
       "      <td>1</td>\n",
       "    </tr>\n",
       "    <tr>\n",
       "      <th>196</th>\n",
       "      <td>Realty</td>\n",
       "      <td>1</td>\n",
       "    </tr>\n",
       "    <tr>\n",
       "      <th>195</th>\n",
       "      <td>Digital</td>\n",
       "      <td>1</td>\n",
       "    </tr>\n",
       "    <tr>\n",
       "      <th>6</th>\n",
       "      <td>Carrizo</td>\n",
       "      <td>1</td>\n",
       "    </tr>\n",
       "    <tr>\n",
       "      <th>193</th>\n",
       "      <td>Enerplus</td>\n",
       "      <td>1</td>\n",
       "    </tr>\n",
       "    <tr>\n",
       "      <th>192</th>\n",
       "      <td>Vanguard</td>\n",
       "      <td>1</td>\n",
       "    </tr>\n",
       "    <tr>\n",
       "      <th>291</th>\n",
       "      <td>MarkWest</td>\n",
       "      <td>1</td>\n",
       "    </tr>\n",
       "  </tbody>\n",
       "</table>\n",
       "<p>292 rows × 2 columns</p>\n",
       "</div>"
      ],
      "text/plain": [
       "               word count\n",
       "3               Inc   147\n",
       "17             Corp   119\n",
       "51           Energy    71\n",
       "14              Ltd    59\n",
       "5                SA    38\n",
       "28               Co    36\n",
       "22        Resources    34\n",
       "20              PLC    30\n",
       "11             Gold    27\n",
       "74        Petroleum    25\n",
       "91            Group    24\n",
       "47    International    15\n",
       "7               Oil    14\n",
       "30         Billiton    14\n",
       "29              BHP    14\n",
       "36           Mining    14\n",
       "104           Latam    13\n",
       "105        Airlines    13\n",
       "48       Transocean    10\n",
       "75       Chesapeake    10\n",
       "2          Holdings    10\n",
       "13       Industries     8\n",
       "8                 &     8\n",
       "86            Oasis     8\n",
       "155             PDC     8\n",
       "52         Petroleo     7\n",
       "57         Drilling     7\n",
       "54        Petrobras     7\n",
       "76         Newfield     7\n",
       "32          Natural     7\n",
       "..              ...   ...\n",
       "82         Unibanco     1\n",
       "223             QEP     1\n",
       "83          Holding     1\n",
       "221         Hycroft     1\n",
       "218       Allegheny     1\n",
       "18           Murphy     1\n",
       "38            Nucor     1\n",
       "214             Fox     1\n",
       "33            Tesla     1\n",
       "212    Twenty-First     1\n",
       "211           Hecla     1\n",
       "210     Diamondback     1\n",
       "96   ConocoPhillips     1\n",
       "208       BlackRock     1\n",
       "206        Biomarin     1\n",
       "205           Aegon     1\n",
       "204        Randgold     1\n",
       "203          Gerdau     1\n",
       "202     Caterpillar     1\n",
       "201          B2Gold     1\n",
       "200         Eclipse     1\n",
       "199             SRC     1\n",
       "98             Teva     1\n",
       "197           Trust     1\n",
       "196          Realty     1\n",
       "195         Digital     1\n",
       "6           Carrizo     1\n",
       "193        Enerplus     1\n",
       "192        Vanguard     1\n",
       "291        MarkWest     1\n",
       "\n",
       "[292 rows x 2 columns]"
      ]
     },
     "execution_count": 193,
     "metadata": {},
     "output_type": "execute_result"
    }
   ],
   "source": [
    "strong_day = day_test.reset_index(drop = True)[strong_y]\n",
    "strong_asset = asset_test.reset_index(drop = True)[strong_y]\n",
    "strong_r = r_test.reset_index(drop = True)[strong_y]\n",
    "strong_sent = X_test.sentimentClass.reset_index(drop = True)[strong_y]\n",
    "\n",
    "strong_month = pd.Series([vdate.month for vdate in strong_day])\n",
    "strong_year = pd.Series([vdate.year for vdate in strong_day])\n",
    "\n",
    "print('Strong sent', strong_sent.mean())\n",
    "print('Strong r', strong_r.mean())\n",
    "\n",
    "\n",
    "df_date = pd.DataFrame()\n",
    "df_date['year'] = strong_year\n",
    "df_date['month'] = strong_month\n",
    "df_date['num'] = pd.Series(np.ones((len(strong_year),)))\n",
    "print(df_date.groupby(['year', 'month']).sum())\n",
    "\n",
    "str1 = ''\n",
    "#Find words in asset names\n",
    "for index in strong_asset:\n",
    "    str1 += ' ' + index\n",
    "str2 = []\n",
    "str1 = str1.split()\n",
    "df2 = pd.DataFrame(columns=['word', 'count'])\n",
    "for index in str1:\n",
    "    if (index not in str2):\n",
    "        str2.append(index)\n",
    "for index in range(len(str2)):\n",
    "    df2.loc[index] = [str2[index], str1.count(str2[index])]\n",
    "df2.sort_values('count', ascending = False)"
   ]
  },
  {
   "cell_type": "code",
   "execution_count": 198,
   "metadata": {},
   "outputs": [
    {
     "name": "stdout",
     "output_type": "stream",
     "text": [
      "Weak sent 0.19643664323430338\n",
      "Weak r -0.001448305795754768\n",
      "             num\n",
      "year month      \n",
      "2010 2       6.0\n",
      "     3       5.0\n",
      "     4       9.0\n",
      "     5      11.0\n",
      "     6       8.0\n",
      "     7      14.0\n",
      "     8       7.0\n",
      "     9       2.0\n",
      "     10      3.0\n",
      "     11      6.0\n",
      "     12      4.0\n",
      "2011 1       8.0\n",
      "     2       6.0\n",
      "     3      11.0\n",
      "     4       6.0\n",
      "     5      12.0\n",
      "     6       6.0\n",
      "     7       9.0\n",
      "     8      12.0\n",
      "     9       6.0\n",
      "     10      9.0\n",
      "     11      6.0\n",
      "     12      9.0\n",
      "2012 1       8.0\n",
      "     2       8.0\n",
      "     3       9.0\n",
      "     4       6.0\n",
      "     5       6.0\n",
      "     6       5.0\n",
      "     7       7.0\n",
      "...          ...\n",
      "2014 7       6.0\n",
      "     8      15.0\n",
      "     9      10.0\n",
      "     10     16.0\n",
      "     11      8.0\n",
      "     12      5.0\n",
      "2015 1       7.0\n",
      "     2       6.0\n",
      "     3      16.0\n",
      "     4      14.0\n",
      "     5      14.0\n",
      "     6       9.0\n",
      "     7      16.0\n",
      "     8       5.0\n",
      "     9      10.0\n",
      "     10     11.0\n",
      "     11      6.0\n",
      "     12      8.0\n",
      "2016 1       8.0\n",
      "     2       9.0\n",
      "     3       9.0\n",
      "     4      10.0\n",
      "     5      10.0\n",
      "     6      11.0\n",
      "     7      11.0\n",
      "     8      12.0\n",
      "     9      11.0\n",
      "     10     16.0\n",
      "     11     12.0\n",
      "     12      8.0\n",
      "\n",
      "[83 rows x 1 columns]\n"
     ]
    },
    {
     "data": {
      "text/html": [
       "<div>\n",
       "<style scoped>\n",
       "    .dataframe tbody tr th:only-of-type {\n",
       "        vertical-align: middle;\n",
       "    }\n",
       "\n",
       "    .dataframe tbody tr th {\n",
       "        vertical-align: top;\n",
       "    }\n",
       "\n",
       "    .dataframe thead th {\n",
       "        text-align: right;\n",
       "    }\n",
       "</style>\n",
       "<table border=\"1\" class=\"dataframe\">\n",
       "  <thead>\n",
       "    <tr style=\"text-align: right;\">\n",
       "      <th></th>\n",
       "      <th>word</th>\n",
       "      <th>count</th>\n",
       "    </tr>\n",
       "  </thead>\n",
       "  <tbody>\n",
       "    <tr>\n",
       "      <th>5</th>\n",
       "      <td>Inc</td>\n",
       "      <td>355</td>\n",
       "    </tr>\n",
       "    <tr>\n",
       "      <th>8</th>\n",
       "      <td>Corp</td>\n",
       "      <td>165</td>\n",
       "    </tr>\n",
       "    <tr>\n",
       "      <th>56</th>\n",
       "      <td>Co</td>\n",
       "      <td>59</td>\n",
       "    </tr>\n",
       "    <tr>\n",
       "      <th>38</th>\n",
       "      <td>Group</td>\n",
       "      <td>50</td>\n",
       "    </tr>\n",
       "    <tr>\n",
       "      <th>117</th>\n",
       "      <td>Ltd</td>\n",
       "      <td>44</td>\n",
       "    </tr>\n",
       "    <tr>\n",
       "      <th>75</th>\n",
       "      <td>PLC</td>\n",
       "      <td>31</td>\n",
       "    </tr>\n",
       "    <tr>\n",
       "      <th>25</th>\n",
       "      <td>Energy</td>\n",
       "      <td>28</td>\n",
       "    </tr>\n",
       "    <tr>\n",
       "      <th>95</th>\n",
       "      <td>Financial</td>\n",
       "      <td>28</td>\n",
       "    </tr>\n",
       "    <tr>\n",
       "      <th>91</th>\n",
       "      <td>International</td>\n",
       "      <td>26</td>\n",
       "    </tr>\n",
       "    <tr>\n",
       "      <th>54</th>\n",
       "      <td>&amp;</td>\n",
       "      <td>23</td>\n",
       "    </tr>\n",
       "    <tr>\n",
       "      <th>20</th>\n",
       "      <td>Holdings</td>\n",
       "      <td>18</td>\n",
       "    </tr>\n",
       "    <tr>\n",
       "      <th>150</th>\n",
       "      <td>Bank</td>\n",
       "      <td>14</td>\n",
       "    </tr>\n",
       "    <tr>\n",
       "      <th>11</th>\n",
       "      <td>Resources</td>\n",
       "      <td>13</td>\n",
       "    </tr>\n",
       "    <tr>\n",
       "      <th>412</th>\n",
       "      <td>Services</td>\n",
       "      <td>12</td>\n",
       "    </tr>\n",
       "    <tr>\n",
       "      <th>15</th>\n",
       "      <td>National</td>\n",
       "      <td>11</td>\n",
       "    </tr>\n",
       "    <tr>\n",
       "      <th>177</th>\n",
       "      <td>Companies</td>\n",
       "      <td>11</td>\n",
       "    </tr>\n",
       "    <tr>\n",
       "      <th>167</th>\n",
       "      <td>SA</td>\n",
       "      <td>11</td>\n",
       "    </tr>\n",
       "    <tr>\n",
       "      <th>151</th>\n",
       "      <td>of</td>\n",
       "      <td>10</td>\n",
       "    </tr>\n",
       "    <tr>\n",
       "      <th>6</th>\n",
       "      <td>General</td>\n",
       "      <td>10</td>\n",
       "    </tr>\n",
       "    <tr>\n",
       "      <th>34</th>\n",
       "      <td>Bancorp</td>\n",
       "      <td>10</td>\n",
       "    </tr>\n",
       "    <tr>\n",
       "      <th>195</th>\n",
       "      <td>LP</td>\n",
       "      <td>9</td>\n",
       "    </tr>\n",
       "    <tr>\n",
       "      <th>2</th>\n",
       "      <td>NV</td>\n",
       "      <td>9</td>\n",
       "    </tr>\n",
       "    <tr>\n",
       "      <th>93</th>\n",
       "      <td>Holding</td>\n",
       "      <td>8</td>\n",
       "    </tr>\n",
       "    <tr>\n",
       "      <th>66</th>\n",
       "      <td>Trust</td>\n",
       "      <td>8</td>\n",
       "    </tr>\n",
       "    <tr>\n",
       "      <th>1</th>\n",
       "      <td>Industries</td>\n",
       "      <td>8</td>\n",
       "    </tr>\n",
       "    <tr>\n",
       "      <th>49</th>\n",
       "      <td>Brands</td>\n",
       "      <td>8</td>\n",
       "    </tr>\n",
       "    <tr>\n",
       "      <th>246</th>\n",
       "      <td>American</td>\n",
       "      <td>8</td>\n",
       "    </tr>\n",
       "    <tr>\n",
       "      <th>182</th>\n",
       "      <td>LLC</td>\n",
       "      <td>8</td>\n",
       "    </tr>\n",
       "    <tr>\n",
       "      <th>106</th>\n",
       "      <td>de</td>\n",
       "      <td>7</td>\n",
       "    </tr>\n",
       "    <tr>\n",
       "      <th>140</th>\n",
       "      <td>Systems</td>\n",
       "      <td>6</td>\n",
       "    </tr>\n",
       "    <tr>\n",
       "      <th>...</th>\n",
       "      <td>...</td>\n",
       "      <td>...</td>\n",
       "    </tr>\n",
       "    <tr>\n",
       "      <th>383</th>\n",
       "      <td>Intuit</td>\n",
       "      <td>1</td>\n",
       "    </tr>\n",
       "    <tr>\n",
       "      <th>385</th>\n",
       "      <td>Darden</td>\n",
       "      <td>1</td>\n",
       "    </tr>\n",
       "    <tr>\n",
       "      <th>386</th>\n",
       "      <td>Restaurants</td>\n",
       "      <td>1</td>\n",
       "    </tr>\n",
       "    <tr>\n",
       "      <th>387</th>\n",
       "      <td>Xcel</td>\n",
       "      <td>1</td>\n",
       "    </tr>\n",
       "    <tr>\n",
       "      <th>391</th>\n",
       "      <td>Burger</td>\n",
       "      <td>1</td>\n",
       "    </tr>\n",
       "    <tr>\n",
       "      <th>352</th>\n",
       "      <td>Suisse</td>\n",
       "      <td>1</td>\n",
       "    </tr>\n",
       "    <tr>\n",
       "      <th>392</th>\n",
       "      <td>King</td>\n",
       "      <td>1</td>\n",
       "    </tr>\n",
       "    <tr>\n",
       "      <th>394</th>\n",
       "      <td>Infosys</td>\n",
       "      <td>1</td>\n",
       "    </tr>\n",
       "    <tr>\n",
       "      <th>399</th>\n",
       "      <td>Phillips</td>\n",
       "      <td>1</td>\n",
       "    </tr>\n",
       "    <tr>\n",
       "      <th>400</th>\n",
       "      <td>66</td>\n",
       "      <td>1</td>\n",
       "    </tr>\n",
       "    <tr>\n",
       "      <th>401</th>\n",
       "      <td>Eldorado</td>\n",
       "      <td>1</td>\n",
       "    </tr>\n",
       "    <tr>\n",
       "      <th>403</th>\n",
       "      <td>Unicom</td>\n",
       "      <td>1</td>\n",
       "    </tr>\n",
       "    <tr>\n",
       "      <th>380</th>\n",
       "      <td>Idenix</td>\n",
       "      <td>1</td>\n",
       "    </tr>\n",
       "    <tr>\n",
       "      <th>379</th>\n",
       "      <td>Philips</td>\n",
       "      <td>1</td>\n",
       "    </tr>\n",
       "    <tr>\n",
       "      <th>378</th>\n",
       "      <td>Koninklijke</td>\n",
       "      <td>1</td>\n",
       "    </tr>\n",
       "    <tr>\n",
       "      <th>376</th>\n",
       "      <td>Electronics</td>\n",
       "      <td>1</td>\n",
       "    </tr>\n",
       "    <tr>\n",
       "      <th>375</th>\n",
       "      <td>Arrow</td>\n",
       "      <td>1</td>\n",
       "    </tr>\n",
       "    <tr>\n",
       "      <th>373</th>\n",
       "      <td>RPM</td>\n",
       "      <td>1</td>\n",
       "    </tr>\n",
       "    <tr>\n",
       "      <th>372</th>\n",
       "      <td>Crown</td>\n",
       "      <td>1</td>\n",
       "    </tr>\n",
       "    <tr>\n",
       "      <th>370</th>\n",
       "      <td>ATK</td>\n",
       "      <td>1</td>\n",
       "    </tr>\n",
       "    <tr>\n",
       "      <th>368</th>\n",
       "      <td>Emulex</td>\n",
       "      <td>1</td>\n",
       "    </tr>\n",
       "    <tr>\n",
       "      <th>362</th>\n",
       "      <td>iRobot</td>\n",
       "      <td>1</td>\n",
       "    </tr>\n",
       "    <tr>\n",
       "      <th>360</th>\n",
       "      <td>Realogy</td>\n",
       "      <td>1</td>\n",
       "    </tr>\n",
       "    <tr>\n",
       "      <th>359</th>\n",
       "      <td>CyrusOne</td>\n",
       "      <td>1</td>\n",
       "    </tr>\n",
       "    <tr>\n",
       "      <th>358</th>\n",
       "      <td>Rayonier</td>\n",
       "      <td>1</td>\n",
       "    </tr>\n",
       "    <tr>\n",
       "      <th>357</th>\n",
       "      <td>Alliance</td>\n",
       "      <td>1</td>\n",
       "    </tr>\n",
       "    <tr>\n",
       "      <th>356</th>\n",
       "      <td>Boots</td>\n",
       "      <td>1</td>\n",
       "    </tr>\n",
       "    <tr>\n",
       "      <th>355</th>\n",
       "      <td>Walgreens</td>\n",
       "      <td>1</td>\n",
       "    </tr>\n",
       "    <tr>\n",
       "      <th>354</th>\n",
       "      <td>Jazz</td>\n",
       "      <td>1</td>\n",
       "    </tr>\n",
       "    <tr>\n",
       "      <th>791</th>\n",
       "      <td>VCA</td>\n",
       "      <td>1</td>\n",
       "    </tr>\n",
       "  </tbody>\n",
       "</table>\n",
       "<p>792 rows × 2 columns</p>\n",
       "</div>"
      ],
      "text/plain": [
       "              word count\n",
       "5              Inc   355\n",
       "8             Corp   165\n",
       "56              Co    59\n",
       "38           Group    50\n",
       "117            Ltd    44\n",
       "75             PLC    31\n",
       "25          Energy    28\n",
       "95       Financial    28\n",
       "91   International    26\n",
       "54               &    23\n",
       "20        Holdings    18\n",
       "150           Bank    14\n",
       "11       Resources    13\n",
       "412       Services    12\n",
       "15        National    11\n",
       "177      Companies    11\n",
       "167             SA    11\n",
       "151             of    10\n",
       "6          General    10\n",
       "34         Bancorp    10\n",
       "195             LP     9\n",
       "2               NV     9\n",
       "93         Holding     8\n",
       "66           Trust     8\n",
       "1       Industries     8\n",
       "49          Brands     8\n",
       "246       American     8\n",
       "182            LLC     8\n",
       "106             de     7\n",
       "140        Systems     6\n",
       "..             ...   ...\n",
       "383         Intuit     1\n",
       "385         Darden     1\n",
       "386    Restaurants     1\n",
       "387           Xcel     1\n",
       "391         Burger     1\n",
       "352         Suisse     1\n",
       "392           King     1\n",
       "394        Infosys     1\n",
       "399       Phillips     1\n",
       "400             66     1\n",
       "401       Eldorado     1\n",
       "403         Unicom     1\n",
       "380         Idenix     1\n",
       "379        Philips     1\n",
       "378    Koninklijke     1\n",
       "376    Electronics     1\n",
       "375          Arrow     1\n",
       "373            RPM     1\n",
       "372          Crown     1\n",
       "370            ATK     1\n",
       "368         Emulex     1\n",
       "362         iRobot     1\n",
       "360        Realogy     1\n",
       "359       CyrusOne     1\n",
       "358       Rayonier     1\n",
       "357       Alliance     1\n",
       "356          Boots     1\n",
       "355      Walgreens     1\n",
       "354           Jazz     1\n",
       "791            VCA     1\n",
       "\n",
       "[792 rows x 2 columns]"
      ]
     },
     "execution_count": 198,
     "metadata": {},
     "output_type": "execute_result"
    }
   ],
   "source": [
    "weak_day = day_test.reset_index(drop = True)[weak_y]\n",
    "weak_asset = asset_test.reset_index(drop = True)[weak_y]\n",
    "weak_r = r_test.reset_index(drop = True)[weak_y]\n",
    "weak_sent = X_test.sentimentClass.reset_index(drop = True)[weak_y]\n",
    "\n",
    "weak_month = pd.Series([vdate.month for vdate in weak_day])\n",
    "weak_year = pd.Series([vdate.year for vdate in weak_day])\n",
    "\n",
    "print('Weak sent', weak_sent.mean())\n",
    "print('Weak r', weak_r.mean())\n",
    "\n",
    "\n",
    "df_date = pd.DataFrame()\n",
    "df_date['year'] = weak_year\n",
    "df_date['month'] = weak_month\n",
    "df_date['num'] = pd.Series(np.ones((len(weak_year),)))\n",
    "print(df_date.groupby(['year', 'month']).sum())\n",
    "\n",
    "str1 = ''\n",
    "#Find words in asset names\n",
    "for index in weak_asset:\n",
    "    str1 += ' ' + index\n",
    "str2 = []\n",
    "str1 = str1.split()\n",
    "df2 = pd.DataFrame(columns=['word', 'count'])\n",
    "for index in str1:\n",
    "    if (index not in str2):\n",
    "        str2.append(index)\n",
    "for index in range(len(str2)):\n",
    "    df2.loc[index] = [str2[index], str1.count(str2[index])]\n",
    "df2.sort_values('count', ascending = False)"
   ]
  },
  {
   "cell_type": "code",
   "execution_count": 195,
   "metadata": {},
   "outputs": [
    {
     "name": "stdout",
     "output_type": "stream",
     "text": [
      "2015-09-08 Denbury Resources Inc\n"
     ]
    },
    {
     "name": "stderr",
     "output_type": "stream",
     "text": [
      "C:\\Users\\jjjon\\Anaconda3\\lib\\site-packages\\ipykernel_launcher.py:7: FutureWarning: Comparing Series of datetimes with 'datetime.date'.  Currently, the\n",
      "'datetime.date' is coerced to a datetime. In the future pandas will\n",
      "not coerce, and 'the values will not compare equal to the\n",
      "'datetime.date'. To retain the current behavior, convert the\n",
      "'datetime.date' to a datetime with 'pd.Timestamp'.\n",
      "  import sys\n"
     ]
    },
    {
     "data": {
      "image/png": "[encoded data removed]",
      "text/plain": [
       "<Figure size 432x288 with 1 Axes>"
      ]
     },
     "metadata": {
      "needs_background": "light"
     },
     "output_type": "display_data"
    }
   ],
   "source": [
    "max_index = y_r.abs().idxmax()\n",
    "max_date = day_test.iloc[max_index]\n",
    "max_asset = asset_test.iloc[max_index]\n",
    "\n",
    "print(max_date, max_asset)\n",
    "y_max = data[(data.assetName == max_asset) &\n",
    "             (data.time == max_date)].open\n",
    "\n",
    "x = data[data.assetName == max_asset].time\n",
    "y = data[data.assetName == max_asset].set_index('time').open\n",
    "\n",
    "y.plot.area(alpha = .3)\n",
    "plt.plot([max_date, max_date], [0, y_max], color = 'red', alpha = .5)\n",
    "plt.xlabel('Date', fontsize = 14)\n",
    "plt.ylabel('Open Stock Price ($)', fontsize = 14)\n",
    "plt.title('Stock Prices for '+max_asset, fontsize = 14)\n",
    "plt.savefig('Open_Strong.png', bbox = 'tight')\n",
    "plt.show()"
   ]
  },
  {
   "cell_type": "code",
   "execution_count": 103,
   "metadata": {},
   "outputs": [
    {
     "data": {
      "text/plain": [
       "Index(['Unnamed: 0', 'assetName', 'time', 'Unnamed: 0.1', 'Unnamed: 0.1.1',\n",
       "       'bodySize', 'close', 'companyCount', 'firstMentionSentence',\n",
       "       'headline_0', 'headline_1', 'headline_2', 'headline_3', 'headline_4',\n",
       "       'headline_5', 'headline_6', 'headline_7', 'headline_8', 'headline_9',\n",
       "       'index', 'marketCommentary', 'noveltyCount12H', 'noveltyCount24H',\n",
       "       'noveltyCount3D', 'noveltyCount5D', 'noveltyCount7D', 'open',\n",
       "       'relevance', 'returnsClosePrevMktres1', 'returnsClosePrevMktres10',\n",
       "       'returnsClosePrevRaw1', 'returnsClosePrevRaw10',\n",
       "       'returnsOpenNextMktres10', 'returnsOpenPrevMktres1',\n",
       "       'returnsOpenPrevMktres10', 'returnsOpenPrevRaw1',\n",
       "       'returnsOpenPrevRaw10', 'sentenceCount', 'sentimentClass',\n",
       "       'sentimentNegative', 'sentimentNeutral', 'sentimentPositive',\n",
       "       'sentimentWordCount', 'subject_0', 'subject_1', 'subject_2',\n",
       "       'subject_3', 'subject_4', 'subject_5', 'subject_6', 'subject_7',\n",
       "       'subject_8', 'subject_9', 'takeSequence', 'universe', 'urgency',\n",
       "       'volume', 'volumeCounts12H', 'volumeCounts24H', 'volumeCounts3D',\n",
       "       'volumeCounts5D', 'volumeCounts7D', 'wordCount', 'assetNameT', 'open5',\n",
       "       'open10', 'r5', 'r10', 'logr', 'sent5', 'sent10'],\n",
       "      dtype='object')"
      ]
     },
     "execution_count": 103,
     "metadata": {},
     "output_type": "execute_result"
    }
   ],
   "source": [
    "data.columns"
   ]
  },
  {
   "cell_type": "code",
   "execution_count": 196,
   "metadata": {},
   "outputs": [
    {
     "data": {
      "image/png": "[encoded data removed]",
      "text/plain": [
       "<Figure size 432x288 with 1 Axes>"
      ]
     },
     "metadata": {
      "needs_background": "light"
     },
     "output_type": "display_data"
    }
   ],
   "source": [
    "x = data[(data.time.dt.year == 2015) & (data.time.dt.month ==9)].time\n",
    "y = data[(data.time.dt.year == 2015) & (data.time.dt.month ==9)].r5\n",
    "\n",
    "df = pd.DataFrame()\n",
    "df['x'] = x\n",
    "df['y'] = y\n",
    "df = df.groupby('x').mean()\n",
    "df = df.reset_index(drop = False)\n",
    "\n",
    "plt.plot(df.x, df.y, color = 'blue')\n",
    "plt.xticks(rotation = 45)\n",
    "plt.show()"
   ]
  },
  {
   "cell_type": "code",
   "execution_count": 197,
   "metadata": {},
   "outputs": [
    {
     "name": "stdout",
     "output_type": "stream",
     "text": [
      "2015-06-25 Wabash National Corp\n"
     ]
    },
    {
     "name": "stderr",
     "output_type": "stream",
     "text": [
      "C:\\Users\\jjjon\\Anaconda3\\lib\\site-packages\\ipykernel_launcher.py:7: FutureWarning: Comparing Series of datetimes with 'datetime.date'.  Currently, the\n",
      "'datetime.date' is coerced to a datetime. In the future pandas will\n",
      "not coerce, and 'the values will not compare equal to the\n",
      "'datetime.date'. To retain the current behavior, convert the\n",
      "'datetime.date' to a datetime with 'pd.Timestamp'.\n",
      "  import sys\n"
     ]
    },
    {
     "data": {
      "image/png": "[encoded data removed]",
      "text/plain": [
       "<Figure size 432x288 with 1 Axes>"
      ]
     },
     "metadata": {
      "needs_background": "light"
     },
     "output_type": "display_data"
    }
   ],
   "source": [
    "min_index = y_r.abs().idxmin()\n",
    "min_date = day_test.iloc[min_index]\n",
    "min_asset = asset_test.iloc[min_index]\n",
    "\n",
    "print(min_date, min_asset)\n",
    "y_min = data[(data.assetName == min_asset) &\n",
    "             (data.time == min_date)].open\n",
    "\n",
    "x = data[data.assetName == min_asset].time\n",
    "y = data[data.assetName == min_asset].set_index('time').open\n",
    "\n",
    "y.plot.area(alpha = 0.3)\n",
    "plt.plot([min_date, min_date], [0, y_min], color = 'red', alpha = .5)\n",
    "plt.xlabel('Date', fontsize = 14)\n",
    "plt.ylabel('Open Stock Price ($)', fontsize = 14)\n",
    "plt.title('Stock Prices for '+min_asset, fontsize = 14)\n",
    "plt.savefig('Open_Weak.png', bbox = 'tight')\n",
    "plt.show()"
   ]
  }
 ],
 "metadata": {
  "kernelspec": {
   "display_name": "Python 3",
   "language": "python",
   "name": "python3"
  },
  "language_info": {
   "codemirror_mode": {
    "name": "ipython",
    "version": 3
   },
   "file_extension": ".py",
   "mimetype": "text/x-python",
   "name": "python",
   "nbconvert_exporter": "python",
   "pygments_lexer": "ipython3",
   "version": "3.7.0"
  }
 },
 "nbformat": 4,
 "nbformat_minor": 2
}
