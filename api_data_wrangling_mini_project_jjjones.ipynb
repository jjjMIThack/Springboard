{
 "cells": [
  {
   "cell_type": "markdown",
   "metadata": {},
   "source": [
    "This exercise will require you to pull some data from the Qunadl API. Qaundl is currently the most widely used aggregator of financial market data."
   ]
  },
  {
   "cell_type": "markdown",
   "metadata": {},
   "source": [
    "As a first step, you will need to register a free account on the http://www.quandl.com website."
   ]
  },
  {
   "cell_type": "markdown",
   "metadata": {},
   "source": [
    "After you register, you will be provided with a unique API key, that you should store:"
   ]
  },
  {
   "cell_type": "code",
   "execution_count": 2,
   "metadata": {},
   "outputs": [],
   "source": [
    "# Store the API key as a string - according to PEP8, constants are always named in all upper case\n",
    "API_KEY = 'fLr8UYk8zzeyF7Pa9C_i'"
   ]
  },
  {
   "cell_type": "markdown",
   "metadata": {},
   "source": [
    "Qaundl has a large number of data sources, but, unfortunately, most of them require a Premium subscription. Still, there are also a good number of free datasets."
   ]
  },
  {
   "cell_type": "markdown",
   "metadata": {},
   "source": [
    "For this mini project, we will focus on equities data from the Frankfurt Stock Exhange (FSE), which is available for free. We'll try and analyze the stock prices of a company called Carl Zeiss Meditec, which manufactures tools for eye examinations, as well as medical lasers for laser eye surgery: https://www.zeiss.com/meditec/int/home.html. The company is listed under the stock ticker AFX_X."
   ]
  },
  {
   "cell_type": "markdown",
   "metadata": {},
   "source": [
    "You can find the detailed Quandl API instructions here: https://docs.quandl.com/docs/time-series"
   ]
  },
  {
   "cell_type": "markdown",
   "metadata": {},
   "source": [
    "While there is a dedicated Python package for connecting to the Quandl API, we would prefer that you use the *requests* package, which can be easily downloaded using *pip* or *conda*. You can find the documentation for the package here: http://docs.python-requests.org/en/master/ "
   ]
  },
  {
   "cell_type": "markdown",
   "metadata": {},
   "source": [
    "Finally, apart from the *requests* package, you are encouraged to not use any third party Python packages, such as *pandas*, and instead focus on what's available in the Python Standard Library (the *collections* module might come in handy: https://pymotw.com/3/collections/).\n",
    "Also, since you won't have access to DataFrames, you are encouraged to us Python's native data structures - preferably dictionaries, though some questions can also be answered using lists.\n",
    "You can read more on these data structures here: https://docs.python.org/3/tutorial/datastructures.html"
   ]
  },
  {
   "cell_type": "markdown",
   "metadata": {},
   "source": [
    "Keep in mind that the JSON responses you will be getting from the API map almost one-to-one to Python's dictionaries. Unfortunately, they can be very nested, so make sure you read up on indexing dictionaries in the documentation provided above."
   ]
  },
  {
   "cell_type": "code",
   "execution_count": 21,
   "metadata": {},
   "outputs": [],
   "source": [
    "# First, import the relevant modules\n",
    "import requests\n"
   ]
  },
  {
   "cell_type": "code",
   "execution_count": 73,
   "metadata": {},
   "outputs": [],
   "source": [
    "# Now, call the Quandl API and pull out a small sample of the data (only one day) to get a glimpse\n",
    "# into the JSON structure that will be returned\n",
    "quand = requests.get('https://www.quandl.com/api/v3/datasets/FSE/AFX_X/data.json?start_date=2018-12-28&end_date=2018-12-28&api_key='+API_KEY)\n",
    "json_quand = quand.json()"
   ]
  },
  {
   "cell_type": "code",
   "execution_count": 74,
   "metadata": {},
   "outputs": [
    {
     "name": "stdout",
     "output_type": "stream",
     "text": [
      "{'dataset_data': {'limit': None, 'transform': None, 'column_index': None, 'column_names': ['Date', 'Open', 'High', 'Low', 'Close', 'Change', 'Traded Volume', 'Turnover', 'Last Price of the Day', 'Daily Traded Units', 'Daily Turnover'], 'start_date': '2018-12-28', 'end_date': '2018-12-28', 'frequency': 'daily', 'data': [['2018-12-28', None, 68.8, 67.75, 68.3, None, None, None, None, None, None]], 'collapse': None, 'order': None}}\n"
     ]
    }
   ],
   "source": [
    "# Inspect the JSON structure of the object you created, and take note of how nested it is,\n",
    "# as well as the overall structure\n",
    "print(json_quand)"
   ]
  },
  {
   "cell_type": "markdown",
   "metadata": {},
   "source": [
    "These are your tasks for this mini project:\n",
    "\n",
    "1. Collect data from the Franfurt Stock Exchange, for the ticker AFX_X, for the whole year 2017 (keep in mind that the date format is YYYY-MM-DD).\n",
    "2. Convert the returned JSON object into a Python dictionary.\n",
    "3. Calculate what the highest and lowest opening prices were for the stock in this period.\n",
    "4. What was the largest change in any one day (based on High and Low price)?\n",
    "5. What was the largest change between any two days (based on Closing Price)?\n",
    "6. What was the average daily trading volume during this year?\n",
    "7. (Optional) What was the median trading volume during this year. (Note: you may need to implement your own function for calculating the median.)"
   ]
  },
  {
   "cell_type": "code",
   "execution_count": 76,
   "metadata": {},
   "outputs": [],
   "source": [
    "#1 Collect data\n",
    "quand = requests.get('https://www.quandl.com/api/v3/datasets/FSE/AFX_X/data.json?start_date=2017-01-01&end_date=2017-12-31&api_key='+API_KEY)\n",
    "json_quand = quand.json()"
   ]
  },
  {
   "cell_type": "code",
   "execution_count": 119,
   "metadata": {},
   "outputs": [],
   "source": [
    "#2 Convert data into dictionary\n",
    "quand_dict = dict(json_quand)"
   ]
  },
  {
   "cell_type": "code",
   "execution_count": 107,
   "metadata": {},
   "outputs": [
    {
     "name": "stdout",
     "output_type": "stream",
     "text": [
      "Opening maximum is 53.11 and minimum is 34.0\n"
     ]
    }
   ],
   "source": [
    "#3 Calculate lowest and highest prices for period\n",
    "data = quand_dict['dataset_data']['data']\n",
    "open_price = []\n",
    "for index in data:\n",
    "    if index[1] == None:\n",
    "        index\n",
    "    else:\n",
    "        open_price.append(index[1])\n",
    "\n",
    "open_max = max(open_price)\n",
    "open_min = min(open_price)\n",
    "print('Opening maximum is',open_max,'and minimum is', open_min)"
   ]
  },
  {
   "cell_type": "code",
   "execution_count": 109,
   "metadata": {},
   "outputs": [
    {
     "name": "stdout",
     "output_type": "stream",
     "text": [
      "Highest difference in any day was 2.8100000000000023\n"
     ]
    }
   ],
   "source": [
    "#4 Largest change in one day\n",
    "diff = []\n",
    "for index in data:\n",
    "    if index[2] == None or index[3] == None:\n",
    "        index\n",
    "    else:\n",
    "        diff.append(index[2]-index[3])\n",
    "\n",
    "high_diff = max(diff)\n",
    "print('Highest difference in any day was', high_diff)"
   ]
  },
  {
   "cell_type": "code",
   "execution_count": 118,
   "metadata": {},
   "outputs": [
    {
     "name": "stdout",
     "output_type": "stream",
     "text": [
      "The maximum change in closing prices between two days is -15.96\n"
     ]
    }
   ],
   "source": [
    "#5 Largest change between closing prices\n",
    "close_change = []\n",
    "close_change_abs = []\n",
    "for index, row in enumerate(data):\n",
    "    if index == 1:\n",
    "        index\n",
    "        temp = row[4]\n",
    "    elif row[4] == None or temp == None:\n",
    "        index\n",
    "    else:\n",
    "        close_change.append(temp - row[4])\n",
    "        close_change_abs.append(abs(temp - row[4]))\n",
    "    temp = row[4]\n",
    "\n",
    "change_abs = max(close_change_abs)\n",
    "high_change = close_change[close_change_abs.index(change_abs)]\n",
    "print('The maximum change in closing prices between two days is', high_change)"
   ]
  },
  {
   "cell_type": "code",
   "execution_count": 121,
   "metadata": {},
   "outputs": [
    {
     "name": "stdout",
     "output_type": "stream",
     "text": [
      "The average daily volume is 89124.33725490196\n"
     ]
    }
   ],
   "source": [
    "#6 Average daily trading volume\n",
    "av_vol = 0\n",
    "counter = 0\n",
    "for index in data:\n",
    "    if (index[6]==None):\n",
    "        index\n",
    "    else:\n",
    "        counter += 1\n",
    "        av_vol += index[6]\n",
    "        \n",
    "average_volume = av_vol/counter\n",
    "print('The average daily volume is', average_volume)"
   ]
  },
  {
   "cell_type": "code",
   "execution_count": 126,
   "metadata": {},
   "outputs": [
    {
     "name": "stdout",
     "output_type": "stream",
     "text": [
      "The median daily volume for the year is 76600.0\n"
     ]
    }
   ],
   "source": [
    "#7 Median trading volume for the year\n",
    "volume_list = []\n",
    "for index in data:\n",
    "    if (index[6]==None):\n",
    "        index\n",
    "    else:\n",
    "        volume_list.append(index[6])\n",
    "volume_list.sort()\n",
    "if len(volume_list) % 2 == 0:\n",
    "    in1 = int(len(volume_list)/2)\n",
    "    volume_median = (volume_list[in1+1] + volume_list[in1-1])/2\n",
    "else:\n",
    "    in1 = int((len(volume_list)+1)/2)\n",
    "    volume_median = volume_list[in1]\n",
    "    \n",
    "print('The median daily volume for the year is', volume_median)"
   ]
  },
  {
   "cell_type": "code",
   "execution_count": null,
   "metadata": {},
   "outputs": [],
   "source": []
  }
 ],
 "metadata": {
  "kernelspec": {
   "display_name": "Python 3",
   "language": "python",
   "name": "python3"
  },
  "language_info": {
   "codemirror_mode": {
    "name": "ipython",
    "version": 3
   },
   "file_extension": ".py",
   "mimetype": "text/x-python",
   "name": "python",
   "nbconvert_exporter": "python",
   "pygments_lexer": "ipython3",
   "version": "3.7.0"
  }
 },
 "nbformat": 4,
 "nbformat_minor": 2
}
